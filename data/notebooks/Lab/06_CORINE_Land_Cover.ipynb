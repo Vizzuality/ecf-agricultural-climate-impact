{
 "cells": [
  {
   "cell_type": "markdown",
   "id": "9f470b7d",
   "metadata": {},
   "source": [
    "# CORINE Land Cover\n",
    "- **[Data source](http://centrodedescargas.cnig.es/CentroDescargas/catalogo.do?Serie=SIOSE#)**\n",
    "\n",
    "- **[Documentation](https://land.copernicus.eu/user-corner/technical-library/corine-land-cover-nomenclature-guidelines/docs/pdf/CLC2018_Nomenclature_illustrated_guide_20190510.pdf)**\n",
    "\n",
    "Mapa de ocupación del suelo en España escala 1:100.000 correspondiente al proyecto europeo Corine Land Cover, versione de 2018.\n",
    "\n",
    "**Corine land cover [nomenclature](https://land.copernicus.eu/user-corner/technical-library/corine-land-cover-nomenclature-guidelines/html/index.html)**\n",
    "\n",
    "- Cereal:\n",
    "    - Non-irrigated arable land: class 211\n",
    "    - Permanently irrigated arable land: class 212\n",
    "- Viñedo: class 221\n",
    "- Olivar: class 223\n",
    "- Dehesa (agroforesty areas): class 244\n",
    "\n",
    "# Setup\n",
    "## Library import\n",
    "We import all the required Python libraries"
   ]
  },
  {
   "cell_type": "code",
   "execution_count": null,
   "id": "9270f453",
   "metadata": {},
   "outputs": [],
   "source": [
    "import fiona\n",
    "import numpy as np\n",
    "import pandas as pd\n",
    "import geopandas as gpd\n",
    "import xarray as xr\n",
    "import cartopy.crs as ccrs\n",
    "import matplotlib.pyplot as plt\n",
    "from mpl_toolkits.axes_grid1 import make_axes_locatable"
   ]
  },
  {
   "cell_type": "markdown",
   "id": "a649fa66",
   "metadata": {},
   "source": [
    "# Data import\n",
    "**Read data**"
   ]
  },
  {
   "cell_type": "code",
   "execution_count": 2,
   "id": "438893d5",
   "metadata": {},
   "outputs": [
    {
     "data": {
      "text/plain": [
       "['CHA18_ES', 'CLC18_ES', 'CHA18_ES_Canarias', 'CLC18_ES_Canarias']"
      ]
     },
     "execution_count": 2,
     "metadata": {},
     "output_type": "execute_result"
    }
   ],
   "source": [
    "layerlist = fiona.listlayers('../../datasets/raw/crops/CLC2018_GDB/CLC2018_ES.gdb')\n",
    "layerlist"
   ]
  },
  {
   "cell_type": "code",
   "execution_count": 3,
   "id": "bb2b9b62",
   "metadata": {},
   "outputs": [
    {
     "data": {
      "text/html": [
       "<div>\n",
       "<style scoped>\n",
       "    .dataframe tbody tr th:only-of-type {\n",
       "        vertical-align: middle;\n",
       "    }\n",
       "\n",
       "    .dataframe tbody tr th {\n",
       "        vertical-align: top;\n",
       "    }\n",
       "\n",
       "    .dataframe thead th {\n",
       "        text-align: right;\n",
       "    }\n",
       "</style>\n",
       "<table border=\"1\" class=\"dataframe\">\n",
       "  <thead>\n",
       "    <tr style=\"text-align: right;\">\n",
       "      <th></th>\n",
       "      <th>CODE_18</th>\n",
       "      <th>AREA_HA</th>\n",
       "      <th>Shape_Length</th>\n",
       "      <th>Shape_Area</th>\n",
       "      <th>ID</th>\n",
       "      <th>geometry</th>\n",
       "    </tr>\n",
       "  </thead>\n",
       "  <tbody>\n",
       "    <tr>\n",
       "      <th>0</th>\n",
       "      <td>111</td>\n",
       "      <td>36.053385</td>\n",
       "      <td>3886.670629</td>\n",
       "      <td>3.605338e+05</td>\n",
       "      <td>1</td>\n",
       "      <td>MULTIPOLYGON (((505496.970 3903768.100, 505556...</td>\n",
       "    </tr>\n",
       "    <tr>\n",
       "      <th>1</th>\n",
       "      <td>111</td>\n",
       "      <td>313.876914</td>\n",
       "      <td>16556.234186</td>\n",
       "      <td>3.138769e+06</td>\n",
       "      <td>2</td>\n",
       "      <td>MULTIPOLYGON (((504804.910 3906736.180, 504859...</td>\n",
       "    </tr>\n",
       "    <tr>\n",
       "      <th>2</th>\n",
       "      <td>111</td>\n",
       "      <td>34.674552</td>\n",
       "      <td>4658.932345</td>\n",
       "      <td>3.467455e+05</td>\n",
       "      <td>3</td>\n",
       "      <td>MULTIPOLYGON (((287998.530 3973421.940, 287999...</td>\n",
       "    </tr>\n",
       "    <tr>\n",
       "      <th>3</th>\n",
       "      <td>111</td>\n",
       "      <td>38.897131</td>\n",
       "      <td>7168.475831</td>\n",
       "      <td>3.889713e+05</td>\n",
       "      <td>4</td>\n",
       "      <td>MULTIPOLYGON (((289079.680 3973878.940, 289069...</td>\n",
       "    </tr>\n",
       "    <tr>\n",
       "      <th>4</th>\n",
       "      <td>111</td>\n",
       "      <td>155.598297</td>\n",
       "      <td>15583.314555</td>\n",
       "      <td>1.555983e+06</td>\n",
       "      <td>5</td>\n",
       "      <td>MULTIPOLYGON (((293507.380 3976051.520, 293509...</td>\n",
       "    </tr>\n",
       "  </tbody>\n",
       "</table>\n",
       "</div>"
      ],
      "text/plain": [
       "  CODE_18     AREA_HA  Shape_Length    Shape_Area  ID  \\\n",
       "0     111   36.053385   3886.670629  3.605338e+05   1   \n",
       "1     111  313.876914  16556.234186  3.138769e+06   2   \n",
       "2     111   34.674552   4658.932345  3.467455e+05   3   \n",
       "3     111   38.897131   7168.475831  3.889713e+05   4   \n",
       "4     111  155.598297  15583.314555  1.555983e+06   5   \n",
       "\n",
       "                                            geometry  \n",
       "0  MULTIPOLYGON (((505496.970 3903768.100, 505556...  \n",
       "1  MULTIPOLYGON (((504804.910 3906736.180, 504859...  \n",
       "2  MULTIPOLYGON (((287998.530 3973421.940, 287999...  \n",
       "3  MULTIPOLYGON (((289079.680 3973878.940, 289069...  \n",
       "4  MULTIPOLYGON (((293507.380 3976051.520, 293509...  "
      ]
     },
     "execution_count": 3,
     "metadata": {},
     "output_type": "execute_result"
    }
   ],
   "source": [
    "gdf_corine = gpd.read_file('../../datasets/raw/crops/CLC2018_GDB/CLC2018_ES.gdb', driver=\"FileGDB\", layer='CLC18_ES')\n",
    "gdf_corine.head()"
   ]
  },
  {
   "cell_type": "markdown",
   "id": "ff2e92e0",
   "metadata": {},
   "source": [
    "**Re-Project**"
   ]
  },
  {
   "cell_type": "code",
   "execution_count": null,
   "id": "e37e4f4a",
   "metadata": {},
   "outputs": [],
   "source": [
    "gdf_corine.crs"
   ]
  },
  {
   "cell_type": "code",
   "execution_count": null,
   "id": "e21411d5",
   "metadata": {},
   "outputs": [],
   "source": [
    "gdf_corine = gdf_corine.to_crs(\"EPSG:4326\")\n",
    "gdf_corine = gdf_corine.set_crs(\"EPSG:4326\")\n",
    "gdf_corine.crs"
   ]
  },
  {
   "cell_type": "markdown",
   "id": "de859a5b",
   "metadata": {},
   "source": [
    "**Display data**"
   ]
  },
  {
   "cell_type": "code",
   "execution_count": null,
   "id": "98a2d173",
   "metadata": {},
   "outputs": [],
   "source": [
    "fig, ax = plt.subplots(figsize=(10,7.5))\n",
    "\n",
    "gdf_corine[gdf_corine['CODE_18'].isin(['211', '212'])].plot(ax=ax, color='#DD9201', label= 'Cereal')\n",
    "gdf_corine[gdf_corine['CODE_18'].isin(['223'])].plot(ax=ax, color='#337735', label= 'Olivar')\n",
    "gdf_corine[gdf_corine['CODE_18'].isin(['244'])].plot(ax=ax, color='#04BA09', label= 'Dehesa')\n",
    "gdf_corine[gdf_corine['CODE_18'].isin(['221'])].plot(ax=ax, color='#8F1D03', label= 'Viñedo')\n",
    "\n",
    "ax.legend()\n",
    "ax.set_title('CORINE Land Cover 2018')"
   ]
  }
 ],
 "metadata": {
  "kernelspec": {
   "display_name": "Python 3 (ipykernel)",
   "language": "python",
   "name": "python3"
  },
  "language_info": {
   "codemirror_mode": {
    "name": "ipython",
    "version": 3
   },
   "file_extension": ".py",
   "mimetype": "text/x-python",
   "name": "python",
   "nbconvert_exporter": "python",
   "pygments_lexer": "ipython3",
   "version": "3.8.12"
  }
 },
 "nbformat": 4,
 "nbformat_minor": 5
}
