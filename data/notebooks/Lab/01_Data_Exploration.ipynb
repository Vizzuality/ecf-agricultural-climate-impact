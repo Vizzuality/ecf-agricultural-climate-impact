{
 "cells": [
  {
   "cell_type": "markdown",
   "id": "4831cf97",
   "metadata": {},
   "source": [
    "# Data Exploration\n",
    "## Purpose\n",
    "State the purpose of the notebook.\n",
    "## Methodology\n",
    "Quickly describle assumptions and processing steps.\n",
    "## WIP - improvements\n",
    "Use this section only if the notebook is not final.\n",
    "\n",
    "Notable TODOs:\n",
    "\n",
    "- Todo 1;\n",
    "- Todo 2;\n",
    "\n",
    "## Results\n",
    "Describe and comment the most important results."
   ]
  },
  {
   "cell_type": "markdown",
   "id": "26fcb7df",
   "metadata": {},
   "source": [
    "# Setup\n",
    "## Library import\n",
    "We import all the required Python libraries"
   ]
  },
  {
   "cell_type": "code",
   "execution_count": 83,
   "id": "f7e4f31f",
   "metadata": {},
   "outputs": [],
   "source": [
    "import os\n",
    "import fiona\n",
    "import numpy as np\n",
    "import pandas as pd\n",
    "import geopandas as gpd\n",
    "import xarray as xr\n",
    "import rioxarray\n",
    "import rasterio\n",
    "import regionmask\n",
    "import cartopy.crs as ccrs\n",
    "import matplotlib.pyplot as plt\n",
    "from mpl_toolkits.axes_grid1 import make_axes_locatable\n",
    "from shapely.geometry import box\n",
    "from tqdm import tqdm"
   ]
  },
  {
   "cell_type": "markdown",
   "id": "eb74cf2e",
   "metadata": {},
   "source": [
    "## Utils"
   ]
  },
  {
   "cell_type": "markdown",
   "id": "a764eac0",
   "metadata": {},
   "source": [
    "**set_lat_lon_attrs**"
   ]
  },
  {
   "cell_type": "code",
   "execution_count": null,
   "id": "689188ba",
   "metadata": {},
   "outputs": [],
   "source": [
    "def set_lat_lon_attrs(ds):\n",
    "    \"\"\" Set CF latitude and longitude attributes\"\"\"\n",
    "    ds[\"lon\"] = ds.lon.assign_attrs({\n",
    "      'axis' : 'X',\n",
    "       'long_name' : 'longitude',\n",
    "        'standard_name' : 'longitude',\n",
    "         'stored_direction' : 'increasing',\n",
    "          'type' : 'double',\n",
    "           'units' : 'degrees_east',\n",
    "            'valid_max' : 360.0,\n",
    "             'valid_min' : -180.0\n",
    "             })\n",
    "    ds[\"lat\"] = ds.lat.assign_attrs({\n",
    "      'axis' : 'Y',\n",
    "       'long_name' : 'latitude',\n",
    "        'standard_name' : 'latitude',\n",
    "         'stored_direction' : 'increasing',\n",
    "          'type' : 'double',\n",
    "           'units' : 'degrees_north',\n",
    "            'valid_max' : 90.0,\n",
    "             'valid_min' : -90.0\n",
    "             })\n",
    "    return ds"
   ]
  },
  {
   "cell_type": "markdown",
   "id": "484972e5",
   "metadata": {},
   "source": [
    "**create_ds_mask**"
   ]
  },
  {
   "cell_type": "code",
   "execution_count": null,
   "id": "d5b9c2a2",
   "metadata": {},
   "outputs": [],
   "source": [
    "def create_ds_mask(df, ds, name, lon_name='lon', lat_name='lat'):\n",
    "    \"\"\"Create masks of geographical regions\"\"\"\n",
    "    # Create index column\n",
    "    if 'index' not in df:\n",
    "        df = df.reset_index(drop=True).reset_index()\n",
    "\n",
    "    # Extract indexes and geoms that are large enough!\n",
    "    id_ints = df['index'].values\n",
    "    geoms = df['geometry'].values\n",
    "    \n",
    "    print(f'Number of indexes: {len(id_ints)}')\n",
    "    print(f'Number of geoms: {len(geoms)}')\n",
    "\n",
    "\n",
    "    # create mask object\n",
    "    da_mask = regionmask.Regions(\n",
    "      name = name,\n",
    "      numbers = id_ints,\n",
    "      outlines = geoms)\\\n",
    "      .mask(ds, lon_name=lon_name, lat_name=lat_name)\\\n",
    "      .rename(name)\n",
    "\n",
    "    # get the ints actually written to mask\n",
    "    id_ints_mask = da_mask.to_dataframe().dropna()[name].unique()\n",
    "    id_ints_mask = np.sort(id_ints_mask).astype('int')\n",
    "    \n",
    "    print(f'Number of ints in mask: {len(id_ints_mask)}')\n",
    "    \n",
    "    # get the ints not written to mask\n",
    "    id_ints_not_in_mask = df[~df['index'].isin(id_ints_mask)]['index'].values\n",
    "    \n",
    "    if len(id_ints_not_in_mask) > 0: \n",
    "        print(f'Ints not in mask: {id_ints_not_in_mask}')\n",
    "    \n",
    "    # update da attributes\n",
    "    da_mask.attrs['id_ints'] = id_ints_mask\n",
    "    da_mask = set_lat_lon_attrs(da_mask)\n",
    "    \n",
    "    return da_mask, id_ints_not_in_mask"
   ]
  },
  {
   "cell_type": "markdown",
   "id": "7f79895e",
   "metadata": {},
   "source": [
    "**find_nearest**"
   ]
  },
  {
   "cell_type": "code",
   "execution_count": null,
   "id": "77327a6b",
   "metadata": {},
   "outputs": [],
   "source": [
    "def find_nearest(array, value):\n",
    "    \"\"\"Find nearest value in numpy array\"\"\"\n",
    "    array = np.asarray(array)\n",
    "    \n",
    "    # Get the mean step values\n",
    "    step = np.abs(np.diff(array)).max()\n",
    "    \n",
    "    # Find the nearest values\n",
    "    diff = np.abs(array - value)\n",
    "    idx = np.argwhere((diff >= np.amin(diff) - step) & (diff <= np.amin(diff) + step))\n",
    "\n",
    "    return idx"
   ]
  },
  {
   "cell_type": "markdown",
   "id": "330cb41a",
   "metadata": {},
   "source": [
    "**get_xy_from_latlon**"
   ]
  },
  {
   "cell_type": "code",
   "execution_count": null,
   "id": "a4b23c22",
   "metadata": {},
   "outputs": [],
   "source": [
    "def get_xy_from_latlon(ds, lat, lon):\n",
    "    \"\"\"Return the x/y values for a given longitude/latitude values\"\"\"\n",
    "    # Read all lon/lat values\n",
    "    lons = ds.lon.data\n",
    "    lats = ds.lat.data\n",
    "    \n",
    "    # Find the positions of the nearest longitude/latitude values\n",
    "    idx_lon = find_nearest(lons, lon)\n",
    "    idx_lat = find_nearest(lats, lat)\n",
    "    \n",
    "    # Check the identical rows in both arrays\n",
    "    res = (idx_lon[:, None] == idx_lat).all(-1).any(-1)\n",
    "    yx_positions = idx_lon[res]\n",
    "    \n",
    "    \n",
    "    if yx_positions.shape[0] == 0:\n",
    "        raise Exception(\"Sorry, lat/lon values outside data domain\")   \n",
    "    if yx_positions.shape[0] > 1:\n",
    "        # If more than one identical rows take the row nearest to the mean value\n",
    "        yx_positions = np.mean(yx_positions,axis=0).astype(int).reshape(1,2)\n",
    "\n",
    "    # Get the x/y values\n",
    "    x_position = yx_positions[0][1]\n",
    "    y_position = yx_positions[0][0]\n",
    "    x = ds.rlon.data[yx_positions[0][1]]\n",
    "    y = ds.rlat.data[yx_positions[0][0]]\n",
    "\n",
    "    return x_position, y_position, x, y"
   ]
  },
  {
   "cell_type": "markdown",
   "id": "a47c335a",
   "metadata": {},
   "source": [
    "# Data import"
   ]
  },
  {
   "cell_type": "markdown",
   "id": "437fdd90",
   "metadata": {},
   "source": [
    "## Comarcas Agrarias\n",
    "**[Data source](https://www.mapa.gob.es/es/cartografia-y-sig/ide/descargas/agricultura/)**\n",
    "\n",
    "La distribución de la superficie de España en `Comarcas Agrarias` agrupa los territorios en unidades espaciales intermedias entre la provincia y el municipio que sin personalidad jurídico-administrativa alguna, tiene un carácter uniforme desde el punto de vista agrario."
   ]
  },
  {
   "cell_type": "code",
   "execution_count": null,
   "id": "10888867",
   "metadata": {},
   "outputs": [],
   "source": [
    "comarcas_agr = gpd.read_file(f'../../datasets/raw/georegions/ComarcasAgrarias/ComarcasAgrarias.shp')\n",
    "comarcas_agr.sort_values(['CO_CCAA', 'CO_PROVINC', 'CO_COMARCA'], inplace = True)"
   ]
  },
  {
   "cell_type": "markdown",
   "id": "c11c39db",
   "metadata": {},
   "source": [
    "Remove Canarias, Ceuta, and Melilla"
   ]
  },
  {
   "cell_type": "code",
   "execution_count": null,
   "id": "8e62e3e7",
   "metadata": {},
   "outputs": [],
   "source": [
    "comarcas_agr = comarcas_agr[~comarcas_agr['DS_CCAA'].isin(['Canarias', 'Ceuta', 'Melilla'])]\n",
    "comarcas_agr = comarcas_agr.reset_index(drop=True)"
   ]
  },
  {
   "cell_type": "markdown",
   "id": "2aa611c9",
   "metadata": {},
   "source": [
    "**Display geometries**"
   ]
  },
  {
   "cell_type": "code",
   "execution_count": null,
   "id": "d449a0e6",
   "metadata": {},
   "outputs": [],
   "source": [
    "fig, ax = plt.subplots(figsize=(10,10))\n",
    "comarcas_agr.plot(ax=ax, color='w', edgecolor='k')"
   ]
  },
  {
   "cell_type": "markdown",
   "id": "d6d82477",
   "metadata": {},
   "source": [
    "## Municipios de España\n",
    "\n",
    "**[Data source](https://opendata.esri.es/datasets/53229f5912e04f1ba6dddb70a5abeb72_0/explore?location=43.017075%2C9.288571%2C5.20)**"
   ]
  },
  {
   "cell_type": "code",
   "execution_count": null,
   "id": "23e5ce24",
   "metadata": {},
   "outputs": [],
   "source": [
    "municipios = gpd.read_file(f'../../datasets/raw/georegions/Municipios/Municipios_IGN.shp')\n",
    "municipios.sort_values(['CODNUT1', 'CODNUT2', 'CODNUT3', 'CODIGOINE'], inplace = True)"
   ]
  },
  {
   "cell_type": "markdown",
   "id": "4ef39795",
   "metadata": {},
   "source": [
    "Remove Canarias, Ceuta, and Melilla"
   ]
  },
  {
   "cell_type": "code",
   "execution_count": null,
   "id": "f3a24ebe",
   "metadata": {},
   "outputs": [],
   "source": [
    "municipios = municipios[~municipios['CODNUT2'].isin(['ES70', 'ES63', 'ES64'])]\n",
    "municipios = municipios.reset_index(drop=True)"
   ]
  },
  {
   "cell_type": "markdown",
   "id": "92037ec4",
   "metadata": {},
   "source": [
    "**Display geometries**"
   ]
  },
  {
   "cell_type": "code",
   "execution_count": null,
   "id": "980eb7a3",
   "metadata": {},
   "outputs": [],
   "source": [
    "fig, ax = plt.subplots(figsize=(10,10))\n",
    "municipios.plot(ax=ax, color='w', edgecolor='k')"
   ]
  },
  {
   "cell_type": "markdown",
   "id": "23203ea3",
   "metadata": {},
   "source": [
    "## Fire danger indicators for Europe \n",
    "**[Data source](https://cds.climate.copernicus.eu/cdsapp#!/dataset/sis-tourism-fire-danger-indicators?tab=overview)**\n",
    "\n",
    "The dataset presents projections of fire danger indicators for Europe based upon the Canadian Fire Weather Index System (FWI) under future climate conditions. The FWI is a meteorologically based index used worldwide to estimate the fire danger and is implemented in the Global ECMWF Fire Forecasting model (GEFF).\n",
    "\n",
    "**Variables:**\n",
    "- **Seasonal fire weather index:** \n",
    "The mean fire weather index value over the European fire season (June-September). This is calculated as the sum of the daily fire weather index over the European fire season divided by the total number of days within this date range. The higher the index value, the more favorable the meteorological conditions to trigger a wildfire are."
   ]
  },
  {
   "cell_type": "markdown",
   "id": "bef2c6c0",
   "metadata": {},
   "source": [
    "**Read data**"
   ]
  },
  {
   "cell_type": "code",
   "execution_count": null,
   "id": "49350e1b",
   "metadata": {},
   "outputs": [],
   "source": [
    "data_dir = '../../datasets/raw/climate/dataset-sis-tourism-fire-danger-indicators/'\n",
    "for n, file in enumerate(os.listdir(data_dir)[16:]):\n",
    "    # convert to Dataset and concatenate by time\n",
    "    if n == 0:\n",
    "        ds_fire = xr.open_dataset(data_dir+file, engine=\"netcdf4\")\n",
    "    else:\n",
    "        ds = xr.open_dataset(data_dir+file, engine=\"netcdf4\")\n",
    "        ds_fire = xr.concat([ds_fire, ds], dim='time')"
   ]
  },
  {
   "cell_type": "code",
   "execution_count": null,
   "id": "f4b20336",
   "metadata": {},
   "outputs": [],
   "source": [
    "ds_fire"
   ]
  },
  {
   "cell_type": "markdown",
   "id": "19e9167d",
   "metadata": {},
   "source": [
    "**Multidimensional Coordinates**\n",
    "\n",
    "The data will derive from a numerical model in which the poles of the model's coordinate system (`logical coordinates`) differ from the earth's true poles (`physical coordinates`). This is typically done when running limited area models, in order to keep the poles as far away as possible from the area that is being modelled. This allows the model's resolution to be roughly uniform over the model domain, as the coordinate system is then approximately cartesian and avoids issues where the meridians converge close to the poles.\n",
    "\n",
    "In our dataset, the `logical coordinates` are `rlon` and `rlat`, while the physical coordinates are `lon` and `lat`, which represent the latitudes and longitude of the data."
   ]
  },
  {
   "cell_type": "code",
   "execution_count": null,
   "id": "861f3e99",
   "metadata": {},
   "outputs": [],
   "source": [
    "print(ds_fire.rlon.attrs)\n",
    "print(ds_fire.rlat.attrs)"
   ]
  },
  {
   "cell_type": "code",
   "execution_count": null,
   "id": "7fa3ad17",
   "metadata": {},
   "outputs": [],
   "source": [
    "print(ds_fire.lon.attrs)\n",
    "print(ds_fire.lat.attrs)"
   ]
  },
  {
   "cell_type": "markdown",
   "id": "f21182dc",
   "metadata": {},
   "source": [
    "**Display data**\n",
    "\n",
    "Xarray provides [several ways](http://xarray.pydata.org/en/stable/examples/multidimensional-coords.html) to plot and analyze such datasets.\n",
    "\n",
    "If we try to plot the data variable `fwi-mean-jjas`, by default we get the logical coordinates."
   ]
  },
  {
   "cell_type": "code",
   "execution_count": null,
   "id": "bc953a06",
   "metadata": {},
   "outputs": [],
   "source": [
    "fig, axs = plt.subplots(1, 2, figsize=(20,10))\n",
    "ds_fire['fwi-mean-jjas'].isel(time=0).plot(ax=axs[0])\n",
    "ds_fire['fwi-mean-jjas'].isel(time=-1).plot(ax=axs[1])"
   ]
  },
  {
   "cell_type": "markdown",
   "id": "e8f3816f",
   "metadata": {},
   "source": [
    "In order to visualize the data on a conventional latitude-longitude grid, we can take advantage of xarray’s ability to apply [cartopy](http://scitools.org.uk/cartopy/index.html) map projections."
   ]
  },
  {
   "cell_type": "code",
   "execution_count": null,
   "id": "71cede84",
   "metadata": {},
   "outputs": [],
   "source": [
    "plt.figure(figsize=(10,10))\n",
    "ax = plt.axes(projection=ccrs.PlateCarree())\n",
    "ax.set_global()\n",
    "ds_fire['fwi-mean-jjas'].isel(time=0).plot.pcolormesh(ax=ax, transform=ccrs.PlateCarree(), x='lon', y='lat', add_colorbar=False)\n",
    "ax.coastlines()\n",
    "ax.set_ylim([0,90]);\n",
    "ax.set_xlim([-30,70]);"
   ]
  },
  {
   "cell_type": "markdown",
   "id": "5bbb6331",
   "metadata": {},
   "source": [
    "## Rasterize vector data"
   ]
  },
  {
   "cell_type": "markdown",
   "id": "2d27956a",
   "metadata": {},
   "source": [
    "### Compute mean values for each `comarca agraria`\n",
    "\n",
    "**Create the data mask by rasterizing the vector data**"
   ]
  },
  {
   "cell_type": "code",
   "execution_count": null,
   "id": "0b48ddfe",
   "metadata": {},
   "outputs": [],
   "source": [
    "gdf = comarcas_agr.copy()\n",
    "gdf = gdf.reset_index(drop=True)\n",
    "da_mask, id_ints_not_in_mask = create_ds_mask(gdf, ds_fire, name='mask', lon_name='lon', lat_name='lat')"
   ]
  },
  {
   "cell_type": "code",
   "execution_count": null,
   "id": "02e089ff",
   "metadata": {},
   "outputs": [],
   "source": [
    "da_mask"
   ]
  },
  {
   "cell_type": "markdown",
   "id": "18a67a9f",
   "metadata": {},
   "source": [
    "**Add geometries smaller than mean cell size into the mask**"
   ]
  },
  {
   "cell_type": "code",
   "execution_count": null,
   "id": "52b5d56d",
   "metadata": {},
   "outputs": [],
   "source": [
    "gdf_not_in_mask = gdf.iloc[id_ints_not_in_mask].copy()\n",
    "\n",
    "gdf_not_in_mask['centroid'] = gdf_not_in_mask['geometry'].apply(lambda x: x.centroid)\n",
    "\n",
    "for id_int in id_ints_not_in_mask:\n",
    "    lon = gdf_not_in_mask['centroid'].loc[id_int].x\n",
    "    lat = gdf_not_in_mask['centroid'].loc[id_int].y\n",
    "    \n",
    "    # Get x/y values for the corresponding longitude/latitude values\n",
    "    x_pos, y_pos, x, y = get_xy_from_latlon(ds_fire, lat, lon)\n",
    "    \n",
    "    # Replace cell value with new int\n",
    "    da_mask.data[y_pos, x_pos] = id_int\n",
    "    \n",
    "# update da attributes\n",
    "da_mask.attrs['id_ints'] = list(gdf.index)"
   ]
  },
  {
   "cell_type": "markdown",
   "id": "b826a8ce",
   "metadata": {},
   "source": [
    "**Display mask**"
   ]
  },
  {
   "cell_type": "code",
   "execution_count": null,
   "id": "74c9cd02",
   "metadata": {},
   "outputs": [],
   "source": [
    "plt.figure(figsize=(10,10))\n",
    "ax = plt.axes(projection=ccrs.PlateCarree())\n",
    "ax.set_global()\n",
    "da_mask.plot.pcolormesh(ax=ax, transform=ccrs.PlateCarree(), x='lon', y='lat', add_colorbar=False)\n",
    "ax.coastlines()\n",
    "ax.set_ylim([35, 45]);\n",
    "ax.set_xlim([-10, 5]);"
   ]
  },
  {
   "cell_type": "markdown",
   "id": "e51b8bdd",
   "metadata": {},
   "source": [
    "**Add mask as a new variable into the xarray.Dataset**"
   ]
  },
  {
   "cell_type": "code",
   "execution_count": null,
   "id": "0166ffcb",
   "metadata": {},
   "outputs": [],
   "source": [
    "ds_fire['mask'] = da_mask"
   ]
  },
  {
   "cell_type": "markdown",
   "id": "5568929e",
   "metadata": {},
   "source": [
    "**Compute mean value over time**"
   ]
  },
  {
   "cell_type": "code",
   "execution_count": null,
   "id": "84716adc",
   "metadata": {},
   "outputs": [],
   "source": [
    "mean_values = [] \n",
    "for index in gdf.index:\n",
    "    mean_values.append(ds_fire['fwi-mean-jjas'].where(ds_fire.mask == index).mean(['rlon', 'rlat']).values)\n",
    "    \n",
    "gdf['fire'] = mean_values\n",
    "gdf['time'] = [list(ds_fire.coords['time'].values)]*len(mean_values)"
   ]
  },
  {
   "cell_type": "markdown",
   "id": "db3e32a3",
   "metadata": {},
   "source": [
    "**Display values for a single year**"
   ]
  },
  {
   "cell_type": "code",
   "execution_count": null,
   "id": "86036385",
   "metadata": {},
   "outputs": [],
   "source": [
    "year = 0\n",
    "gdf_1year = gdf.copy()\n",
    "gdf_1year['fire'] = gdf_1year['fire'].apply(lambda x: x[year])\n",
    "gdf_1year['time'] = gdf_1year['time'].apply(lambda x: x[year])"
   ]
  },
  {
   "cell_type": "code",
   "execution_count": null,
   "id": "e410a5de",
   "metadata": {},
   "outputs": [],
   "source": [
    "fig, ax = plt.subplots(figsize=(10,10))\n",
    "\n",
    "divider = make_axes_locatable(ax)\n",
    "\n",
    "cax = divider.append_axes(\"right\", size=\"5%\", pad=-0.5)\n",
    "\n",
    "gdf_1year.plot(ax=ax, column='fire', cmap='magma', legend=True, cax=cax, legend_kwds={'label': \"Seasonal fire weather index\"})\n",
    "\n",
    "ax.set_title(str(gdf_1year['time'].iloc[0]))"
   ]
  },
  {
   "cell_type": "markdown",
   "id": "bac3e4be",
   "metadata": {},
   "source": [
    "## Mapas de presencia de especies forestales en España peninsular"
   ]
  },
  {
   "cell_type": "code",
   "execution_count": null,
   "id": "15a21b41",
   "metadata": {},
   "outputs": [],
   "source": [
    "xda = xr.open_rasterio(f'../../datasets/raw/especies_forestales/g724_mfe_pres/quer_sube.tif').squeeze().drop(\"band\")"
   ]
  },
  {
   "cell_type": "code",
   "execution_count": null,
   "id": "19c10b98",
   "metadata": {},
   "outputs": [],
   "source": [
    "xda"
   ]
  },
  {
   "cell_type": "code",
   "execution_count": null,
   "id": "fae50dbb",
   "metadata": {},
   "outputs": [],
   "source": [
    "# convert to Dataset\n",
    "xds = xr.Dataset({'quer_sube': xda}, attrs=xda.attrs)"
   ]
  },
  {
   "cell_type": "code",
   "execution_count": null,
   "id": "365287c4",
   "metadata": {},
   "outputs": [],
   "source": [
    "xds"
   ]
  },
  {
   "cell_type": "code",
   "execution_count": null,
   "id": "abdbc463",
   "metadata": {},
   "outputs": [],
   "source": [
    "xds.quer_sube.plot()"
   ]
  },
  {
   "cell_type": "code",
   "execution_count": null,
   "id": "514cfed3",
   "metadata": {},
   "outputs": [],
   "source": [
    "xr.combine_by_coords([ds_fire, xds])"
   ]
  },
  {
   "cell_type": "code",
   "execution_count": null,
   "id": "2e63f564",
   "metadata": {},
   "outputs": [],
   "source": []
  }
 ],
 "metadata": {
  "kernelspec": {
   "display_name": "Python 3 (ipykernel)",
   "language": "python",
   "name": "python3"
  },
  "language_info": {
   "codemirror_mode": {
    "name": "ipython",
    "version": 3
   },
   "file_extension": ".py",
   "mimetype": "text/x-python",
   "name": "python",
   "nbconvert_exporter": "python",
   "pygments_lexer": "ipython3",
   "version": "3.8.12"
  }
 },
 "nbformat": 4,
 "nbformat_minor": 5
}
