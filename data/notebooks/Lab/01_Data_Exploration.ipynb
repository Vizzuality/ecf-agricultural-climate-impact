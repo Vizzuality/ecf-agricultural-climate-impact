{
 "cells": [
  {
   "cell_type": "markdown",
   "id": "4b2825ce",
   "metadata": {},
   "source": [
    "# Data Exploration\n",
    "## Purpose\n",
    "State the purpose of the notebook.\n",
    "## Methodology\n",
    "Quickly describle assumptions and processing steps.\n",
    "## WIP - improvements\n",
    "Use this section only if the notebook is not final.\n",
    "\n",
    "Notable TODOs:\n",
    "\n",
    "- Todo 1;\n",
    "- Todo 2;\n",
    "\n",
    "## Results\n",
    "Describe and comment the most important results."
   ]
  },
  {
   "cell_type": "markdown",
   "id": "904ab6c5",
   "metadata": {},
   "source": [
    "# Setup\n",
    "## Library import\n",
    "We import all the required P\n",
    "ython libraries"
   ]
  },
  {
   "cell_type": "code",
   "execution_count": null,
   "id": "1bb299c1",
   "metadata": {},
   "outputs": [],
   "source": [
    "import os\n",
    "import numpy as np\n",
    "import pandas as pd\n",
    "import geopandas as gpd\n",
    "import xarray as xr\n",
    "import rioxarray\n",
    "import rasterio\n",
    "import regionmask\n",
    "import cartopy.crs as ccrs\n",
    "import matplotlib.pyplot as plt"
   ]
  },
  {
   "cell_type": "markdown",
   "id": "38e6ff6a",
   "metadata": {},
   "source": [
    "# Utils"
   ]
  },
  {
   "cell_type": "markdown",
   "id": "cb24d01a",
   "metadata": {},
   "source": [
    "**set_lat_lon_attrs**"
   ]
  },
  {
   "cell_type": "code",
   "execution_count": null,
   "id": "e7092888",
   "metadata": {},
   "outputs": [],
   "source": [
    "def set_lat_lon_attrs(ds):\n",
    "    \"\"\" Set CF latitude and longitude attributes\"\"\"\n",
    "    ds[\"lon\"] = ds.lon.assign_attrs({\n",
    "      'axis' : 'X',\n",
    "       'long_name' : 'longitude',\n",
    "        'standard_name' : 'longitude',\n",
    "         'stored_direction' : 'increasing',\n",
    "          'type' : 'double',\n",
    "           'units' : 'degrees_east',\n",
    "            'valid_max' : 360.0,\n",
    "             'valid_min' : -180.0\n",
    "             })\n",
    "    ds[\"lat\"] = ds.lat.assign_attrs({\n",
    "      'axis' : 'Y',\n",
    "       'long_name' : 'latitude',\n",
    "        'standard_name' : 'latitude',\n",
    "         'stored_direction' : 'increasing',\n",
    "          'type' : 'double',\n",
    "           'units' : 'degrees_north',\n",
    "            'valid_max' : 90.0,\n",
    "             'valid_min' : -90.0\n",
    "             })\n",
    "    return ds\n"
   ]
  },
  {
   "cell_type": "markdown",
   "id": "d2045c15",
   "metadata": {},
   "source": [
    "**create_ds_mask**"
   ]
  },
  {
   "cell_type": "code",
   "execution_count": null,
   "id": "477e9877",
   "metadata": {},
   "outputs": [],
   "source": [
    "def create_ds_mask(df, ds, name, lon_name='lon', lat_name='lat'):\n",
    "    # Create index column\n",
    "    if 'index' not in df:\n",
    "        df = df.reset_index(drop=True).reset_index()\n",
    "    \n",
    "    # Get mean ds cell area (in degrees) \n",
    "    mean_y_size = np.diff(ds.lat.values).mean()\n",
    "    #print(mean_y_size)\n",
    "    mean_x_size = np.diff(ds.lat.values).mean()\n",
    "    #print(mean_x_size)\n",
    "    mean_area = mean_y_size * mean_x_size\n",
    "    print(f\"The mean ds cell area is {np.round(mean_area, 6)} deg.\\n\")\n",
    "    \n",
    "    # Clip gdf to bounding box of ds\n",
    "    xmin = ds.lon.min().values.tolist()\n",
    "    xmax = ds.lon.max().values.tolist()\n",
    "    ymin = ds.lat.min().values.tolist()\n",
    "    ymax = ds.lat.max().values.tolist()\n",
    "    df = df.cx[xmin:xmax, ymin:ymax]\n",
    "    \n",
    "    \n",
    "    # Add area of geoms to gdf\n",
    "    df = df.assign(area = df.area)\n",
    "    df = df.assign(area_is_gt_cell = df['area'] > mean_area)\n",
    "    print(f\"Clipped gdf to dataset bounds, giving {len(df['index'])} potential geometries, of which {df['area_is_gt_cell'].sum()} are large enough.\\n\")\n",
    "    \n",
    "    print(\"Geometries smaller than mean cell size:\")\n",
    "    print(df.loc[df['area_is_gt_cell'] == False, ['index']])\n",
    "    print(\"\\n\")\n",
    "\n",
    "    # Extract indexes and geoms that are large enough!\n",
    "    id_ints = df.loc[df['area_is_gt_cell'] == True, 'index'].values\n",
    "    geoms = df.loc[df['area_is_gt_cell'] == True, 'geometry'].values\n",
    "    \n",
    "    print(f'Number of indexes: {len(id_ints)}')\n",
    "    print(f'Number of geoms: {len(geoms)}')\n",
    "\n",
    "\n",
    "    # create mask object\n",
    "    da_mask = regionmask.Regions(\n",
    "      name = name,\n",
    "      numbers = id_ints,\n",
    "      outlines = geoms)\\\n",
    "      .mask(ds, lon_name=lon_name, lat_name=lat_name)\\\n",
    "      .rename(name)\n",
    "\n",
    "    # get the ints actually written to mask\n",
    "    id_ints_mask = da_mask.to_dataframe().dropna()[name].unique()\n",
    "    id_ints_mask = np.sort(id_ints_mask).astype('int')\n",
    "    \n",
    "    print(f'Number of ints in mask: {len(id_ints_mask)}')\n",
    "    \n",
    "    # update da attributes\n",
    "    da_mask.attrs['id_ints'] = id_ints_mask\n",
    "    da_mask = set_lat_lon_attrs(da_mask)\n",
    "    return da_mask"
   ]
  },
  {
   "cell_type": "markdown",
   "id": "f6bd6b4f",
   "metadata": {},
   "source": [
    "# Data import"
   ]
  },
  {
   "cell_type": "markdown",
   "id": "3485b95e",
   "metadata": {},
   "source": [
    "## Political boundaries for Spain \n",
    "**[Data source](https://gadm.org/download_country_v3.html)**\n",
    "\n",
    "GADM data (version 3.6)."
   ]
  },
  {
   "cell_type": "code",
   "execution_count": null,
   "id": "f8db475e",
   "metadata": {},
   "outputs": [],
   "source": [
    "# Read Political boundaries:\n",
    "for level in range(3):\n",
    "    if level == 0:\n",
    "        spain = gpd.read_file(f'../../datasets/raw/gadm36_ESP_shp/gadm36_ESP_{str(level)}.shp')\n",
    "        spain['level'] = level\n",
    "    else:\n",
    "        gdf = gpd.read_file(f'../../datasets/raw/gadm36_ESP_shp/gadm36_ESP_{str(level)}.shp')\n",
    "        gdf['level'] = level\n",
    "        spain = pd.concat([spain, gdf])"
   ]
  },
  {
   "cell_type": "code",
   "execution_count": null,
   "id": "3778b121",
   "metadata": {},
   "outputs": [],
   "source": [
    "spain"
   ]
  },
  {
   "cell_type": "code",
   "execution_count": null,
   "id": "857936c6",
   "metadata": {},
   "outputs": [],
   "source": [
    "fig, ax = plt.subplots(figsize=(10,10))\n",
    "spain[spain['level'] == 2].plot(ax=ax)"
   ]
  },
  {
   "cell_type": "markdown",
   "id": "db020b5d",
   "metadata": {},
   "source": [
    "## Fire danger indicators for Europe \n",
    "**[Data source](https://cds.climate.copernicus.eu/cdsapp#!/dataset/sis-tourism-fire-danger-indicators?tab=overview)**\n",
    "\n",
    "The dataset presents projections of fire danger indicators for Europe based upon the Canadian Fire Weather Index System (FWI) under future climate conditions. The FWI is a meteorologically based index used worldwide to estimate the fire danger and is implemented in the Global ECMWF Fire Forecasting model (GEFF).\n",
    "\n",
    "**Variables:**\n",
    "- **Seasonal fire weather index:** \n",
    "The mean fire weather index value over the European fire season (June-September). This is calculated as the sum of the daily fire weather index over the European fire season divided by the total number of days within this date range. The higher the index value, the more favorable the meteorological conditions to trigger a wildfire are."
   ]
  },
  {
   "cell_type": "markdown",
   "id": "b14f996a",
   "metadata": {},
   "source": [
    "**Read data**"
   ]
  },
  {
   "cell_type": "code",
   "execution_count": null,
   "id": "b0ff134f",
   "metadata": {},
   "outputs": [],
   "source": [
    "data_dir = '../../datasets/raw/seasonal-fire-weather-index/'\n",
    "for n, file in enumerate(os.listdir(data_dir)):\n",
    "    # convert to Dataset and concatenate by time\n",
    "    if n == 0:\n",
    "        ds_fire = xr.open_dataset(data_dir+file, engine=\"netcdf4\")\n",
    "    else:\n",
    "        ds = xr.open_dataset(data_dir+file, engine=\"netcdf4\")\n",
    "        ds_fire = xr.concat([ds_fire, ds], dim='time')"
   ]
  },
  {
   "cell_type": "code",
   "execution_count": null,
   "id": "4824982d",
   "metadata": {},
   "outputs": [],
   "source": [
    "ds_fire"
   ]
  },
  {
   "cell_type": "markdown",
   "id": "9c8af0f1",
   "metadata": {},
   "source": [
    "**Multidimensional Coordinates**\n",
    "\n",
    "The data will derive from a numerical model in which the poles of the model's coordinate system (`logical coordinates`) differ from the earth's true poles (`physical coordinates`). This is typically done when running limited area models, in order to keep the poles as far away as possible from the area that is being modelled. This allows the model's resolution to be roughly uniform over the model domain, as the coordinate system is then approximately cartesian and avoids issues where the meridians converge close to the poles.\n",
    "\n",
    "In our dataset, the `logical coordinates` are `rlon` and `rlat`, while the physical coordinates are `lon` and `lat`, which represent the latitudes and longitude of the data."
   ]
  },
  {
   "cell_type": "code",
   "execution_count": null,
   "id": "4cf06556",
   "metadata": {},
   "outputs": [],
   "source": [
    "print(ds_fire.rlon.attrs)\n",
    "print(ds_fire.rlat.attrs)"
   ]
  },
  {
   "cell_type": "code",
   "execution_count": null,
   "id": "7cb5be83",
   "metadata": {},
   "outputs": [],
   "source": [
    "print(ds_fire.lon.attrs)\n",
    "print(ds_fire.lat.attrs)"
   ]
  },
  {
   "cell_type": "markdown",
   "id": "11a4a9cc",
   "metadata": {},
   "source": [
    "**Display data**\n",
    "\n",
    "Xarray provides [several ways](http://xarray.pydata.org/en/stable/examples/multidimensional-coords.html) to plot and analyze such datasets.\n",
    "\n",
    "If we try to plot the data variable `fwi-mean-jjas`, by default we get the logical coordinates."
   ]
  },
  {
   "cell_type": "code",
   "execution_count": null,
   "id": "0a4d0ed3",
   "metadata": {},
   "outputs": [],
   "source": [
    "fig, axs = plt.subplots(1, 2, figsize=(20,10))\n",
    "ds_fire['fwi-mean-jjas'].isel(time=0).plot(ax=axs[0])\n",
    "ds_fire['fwi-mean-jjas'].isel(time=77).plot(ax=axs[1])"
   ]
  },
  {
   "cell_type": "markdown",
   "id": "4760d7a3",
   "metadata": {},
   "source": [
    "In order to visualize the data on a conventional latitude-longitude grid, we can take advantage of xarray’s ability to apply [cartopy](http://scitools.org.uk/cartopy/index.html) map projections."
   ]
  },
  {
   "cell_type": "code",
   "execution_count": null,
   "id": "40039262",
   "metadata": {},
   "outputs": [],
   "source": [
    "plt.figure(figsize=(10,10))\n",
    "ax = plt.axes(projection=ccrs.PlateCarree())\n",
    "ax.set_global()\n",
    "ds_fire['fwi-mean-jjas'].isel(time=0).plot.pcolormesh(ax=ax, transform=ccrs.PlateCarree(), x='lon', y='lat', add_colorbar=False)\n",
    "ax.coastlines()\n",
    "ax.set_ylim([0,90]);\n",
    "ax.set_xlim([-30,70]);"
   ]
  },
  {
   "cell_type": "markdown",
   "id": "ca831b3e",
   "metadata": {},
   "source": [
    "### Rasterize vector data\n",
    "\n",
    "Create the data mask by rasterizing the vector data"
   ]
  },
  {
   "cell_type": "code",
   "execution_count": null,
   "id": "ee6b1964",
   "metadata": {},
   "outputs": [],
   "source": [
    "gdf = spain[spain['level'] == 0].copy()\n",
    "da_mask = create_ds_mask(gdf, ds_fire, name='mask', lon_name='lon', lat_name='lat')"
   ]
  },
  {
   "cell_type": "markdown",
   "id": "012709ef",
   "metadata": {},
   "source": [
    "Add mask as a new variable into the xarray.Dataset"
   ]
  },
  {
   "cell_type": "code",
   "execution_count": null,
   "id": "fecc0b5e",
   "metadata": {},
   "outputs": [],
   "source": [
    "ds_fire['mask'] = da_mask\n",
    "ds_fire"
   ]
  },
  {
   "cell_type": "markdown",
   "id": "6d42501d",
   "metadata": {},
   "source": [
    "**Display values for Spain**"
   ]
  },
  {
   "cell_type": "code",
   "execution_count": null,
   "id": "f9a6656d",
   "metadata": {},
   "outputs": [],
   "source": [
    "index = 0\n",
    "xmin, ymin, xmax, ymax = gdf.iloc[index]['geometry'].bounds\n",
    "ds_fire_spain = ds_fire['fwi-mean-jjas'].where(ds_fire.mask == index).copy()"
   ]
  },
  {
   "cell_type": "code",
   "execution_count": null,
   "id": "39a38e60",
   "metadata": {},
   "outputs": [],
   "source": [
    "plt.figure(figsize=(10,10))\n",
    "ax = plt.axes(projection=ccrs.PlateCarree())\n",
    "ax.set_global()\n",
    "ds_fire_spain.isel(time=77).plot.pcolormesh(ax=ax, transform=ccrs.PlateCarree(), x='lon', y='lat', add_colorbar=False)\n",
    "ax.coastlines()\n",
    "ax.set_ylim([ymin-1, ymax+1]);\n",
    "ax.set_xlim([xmin-1, xmax+1]);"
   ]
  },
  {
   "cell_type": "markdown",
   "id": "4bbf52c2",
   "metadata": {},
   "source": [
    "**Compute mean value over time**"
   ]
  },
  {
   "cell_type": "code",
   "execution_count": null,
   "id": "24801cf4",
   "metadata": {},
   "outputs": [],
   "source": [
    "plt.plot(ds_fire_spain.where(ds_fire.mask == index).mean(['rlon', 'rlat']).values)"
   ]
  },
  {
   "cell_type": "code",
   "execution_count": null,
   "id": "6bed1392",
   "metadata": {},
   "outputs": [],
   "source": []
  }
 ],
 "metadata": {
  "kernelspec": {
   "display_name": "Python 3 (ipykernel)",
   "language": "python",
   "name": "python3"
  },
  "language_info": {
   "codemirror_mode": {
    "name": "ipython",
    "version": 3
   },
   "file_extension": ".py",
   "mimetype": "text/x-python",
   "name": "python",
   "nbconvert_exporter": "python",
   "pygments_lexer": "ipython3",
   "version": "3.8.12"
  }
 },
 "nbformat": 4,
 "nbformat_minor": 5
}
