{
 "cells": [
  {
   "cell_type": "markdown",
   "metadata": {},
   "source": [
    "# Create `MBTiles`\n",
    "In this notebook we will transforms vector type data into MBTiles using tippecanoe.\n",
    "\n",
    "# Setup\n",
    "## Library import\n",
    "We import all the required Python libraries"
   ]
  },
  {
   "cell_type": "code",
   "execution_count": 3,
   "metadata": {},
   "outputs": [],
   "source": [
    "import os\n",
    "import json\n",
    "import numpy as np\n",
    "import pandas as pd\n",
    "import geopandas as gpd\n",
    "import subprocess\n",
    "from dotenv import load_dotenv\n",
    "import glob\n",
    "from google.cloud import storage\n",
    "from google.oauth2 import service_account\n",
    "import ipyleaflet as ipyl"
   ]
  },
  {
   "cell_type": "markdown",
   "metadata": {},
   "source": [
    "## Utils"
   ]
  },
  {
   "cell_type": "markdown",
   "metadata": {},
   "source": [
    "**read_indicators**"
   ]
  },
  {
   "cell_type": "code",
   "execution_count": 4,
   "metadata": {},
   "outputs": [],
   "source": [
    "def read_indicators(dataset, indicator, gdf_vectors, geo_type='Municipios', filter_type = 'year'):\n",
    "     gdf_ids = {'Provincias': ['CO_CCAA', 'CO_PROVINC'],\n",
    "     'Comunidades autonomas': ['CO_CCAA'],\n",
    "     'Municipios': ['CODIGOINE'],\n",
    "     'Rejilla': ['grid_id']}\n",
    "\n",
    "     gdf_columns = {'Provincias': ['DS_CCAA', 'CO_CCAA', 'DS_PROVINC', 'CO_PROVINC'],\n",
    "     'Comunidades autonomas': ['DS_CCAA', 'CO_CCAA'],\n",
    "     'Municipios': ['NAMEUNIT', 'CODIGOINE'],\n",
    "     'Rejilla': ['grid_id']}\n",
    "\n",
    "     geo_name = geo_type.lower().replace(' ', '_')\n",
    "\n",
    "     df = pd.read_csv(f'../../datasets/processed/{dataset}/{dataset}_{geo_name}.csv')\n",
    "     df = df.astype(dict(zip(gdf_ids[geo_type], [int]*len(gdf_ids[geo_type]))))\n",
    "     gdf = df[(df['indicator'] == indicator)]\n",
    "     gdf = gpd.GeoDataFrame(pd.merge(gdf, gdf_vectors[geo_type][gdf_columns[geo_type]+['geometry']].astype(dict(zip(gdf_ids[geo_type], [int]*len(gdf_ids[geo_type])))),\\\n",
    "          how='left', on=gdf_ids[geo_type]))\n",
    "\n",
    "\n",
    "     if filter_type == 'cereal':\n",
    "          gdf = gdf[gdf_columns[geo_type] + ['dataset', 'indicator', 'scenario', 'value', filter_type, 'unit', 'geometry']]\n",
    "     else:\n",
    "          gdf = gdf[gdf_columns[geo_type] + ['dataset', 'indicator', 'scenario', 'value', 'year', 'unit', 'geometry']]\n",
    "\n",
    "     return gdf"
   ]
  },
  {
   "cell_type": "markdown",
   "metadata": {},
   "source": [
    "**reorganize_data_new**"
   ]
  },
  {
   "cell_type": "code",
   "execution_count": 5,
   "metadata": {},
   "outputs": [],
   "source": [
    "def reorganize_data_new(gdf, geo_type='Municipios', filter_type = 'year'):\n",
    "    gdf_id = {'Provincias': 'CO_PROVINC',\n",
    "    'Comunidades autonomas': 'CO_CCAA',\n",
    "    'Municipios': 'CODIGOINE',\n",
    "    'Rejilla': 'grid_id'}\n",
    "\n",
    "    gdf_columns = {'Provincias': ['DS_CCAA', 'CO_CCAA', 'DS_PROVINC', 'CO_PROVINC'],\n",
    "    'Comunidades autonomas': ['DS_CCAA', 'CO_CCAA'],\n",
    "    'Municipios': ['NAMEUNIT', 'CODIGOINE'],\n",
    "    'Rejilla': ['grid_id']}\n",
    "\n",
    "    gdf_new = gpd.GeoDataFrame(columns=gdf_columns[geo_type]+['dataset', 'indicator', 'unit', 'geometry'])\n",
    "    for code_id in gdf[gdf_id[geo_type]].unique():\n",
    "        df = gdf[gdf[gdf_id[geo_type]] == code_id][['scenario', filter_type, 'value']]\n",
    "\n",
    "        gdf_tmp = gdf[gdf[gdf_id[geo_type]] == code_id][gdf_columns[geo_type]].iloc[:1]\n",
    "        gdf_tmp['dataset'] = gdf['dataset'].iloc[0]\n",
    "        gdf_tmp['indicator'] = gdf['indicator'].iloc[0]\n",
    "        gdf_tmp['unit'] = gdf['unit'].iloc[0]\n",
    "\n",
    "        columns = []\n",
    "        for  i in range(len(df)):\n",
    "            filter = df[filter_type].iloc[i].replace(\" \", \"\")\n",
    "            gdf_tmp[f\"value_{df['scenario'].iloc[i]}_{filter}\"] = df['value'].iloc[i]\n",
    "\n",
    "        gdf_tmp['geometry'] = gdf[gdf[gdf_id[geo_type]] == code_id]['geometry'].iloc[:1]\n",
    "\n",
    "        gdf_new = pd.concat([gdf_new, gdf_tmp])\n",
    "\n",
    "    return gdf_new"
   ]
  },
  {
   "cell_type": "markdown",
   "metadata": {},
   "source": [
    "**reorganize_data**"
   ]
  },
  {
   "cell_type": "code",
   "execution_count": 6,
   "metadata": {},
   "outputs": [],
   "source": [
    "def reorganize_data(gdf, geo_type='Municipios', filter_type = 'year'):\n",
    "    gdf_id = {'Provincias': 'CO_PROVINC',\n",
    "    'Comunidades autonomas': 'CO_CCAA',\n",
    "    'Municipios': 'CODIGOINE',\n",
    "    'Rejilla': 'grid_id'}\n",
    "\n",
    "    gdf_columns = {'Provincias': ['DS_CCAA', 'CO_CCAA', 'DS_PROVINC', 'CO_PROVINC'],\n",
    "    'Comunidades autonomas': ['DS_CCAA', 'CO_CCAA'],\n",
    "    'Municipios': ['NAMEUNIT', 'CODIGOINE'],\n",
    "    'Rejilla': ['grid_id']}\n",
    "\n",
    "    gdf_new = gpd.GeoDataFrame(columns=gdf_columns[geo_type]+['dataset', 'indicator', 'unit', 'values', 'geometry'])\n",
    "    for code_id in gdf[gdf_id[geo_type]].unique():\n",
    "        LD = json.loads(gdf[gdf[gdf_id[geo_type]] == code_id][['scenario', filter_type, 'value']].to_json(orient='records'))\n",
    "        if geo_type == 'Rejilla':\n",
    "            v = {k: {dic[filter_type]: dic['value'] for dic in LD if dic['scenario'] == k} for k in ['baseline', 'rcp45', 'rcp85']}\n",
    "        else:\n",
    "            v = {k: {dic[filter_type]: dic['value'] for dic in LD if dic['scenario'] == k} for k in ['rcp45', 'rcp85']}\n",
    "\n",
    "        gdf_tmp = gdf[gdf[gdf_id[geo_type]] == code_id][gdf_columns[geo_type]].iloc[:1]\n",
    "        gdf_tmp['dataset'] = gdf['dataset'].iloc[0]\n",
    "        gdf_tmp['indicator'] = gdf['indicator'].iloc[0]\n",
    "        gdf_tmp['unit'] = gdf['unit'].iloc[0]\n",
    "        gdf_tmp['values'] = [v]\n",
    "        gdf_tmp['geometry'] = gdf[gdf[gdf_id[geo_type]] == code_id]['geometry'].iloc[:1]\n",
    "\n",
    "        gdf_new = pd.concat([gdf_new, gdf_tmp])\n",
    "\n",
    "    return gdf_new"
   ]
  },
  {
   "cell_type": "markdown",
   "metadata": {},
   "source": [
    "**create_mbtiles**"
   ]
  },
  {
   "cell_type": "code",
   "execution_count": 7,
   "metadata": {},
   "outputs": [],
   "source": [
    "def create_mbtiles(source_path, dest_path, layer_name, opts=\"-zg --drop-densest-as-needed --extend-zooms-if-still-dropping --force --read-parallel\"):\n",
    "    \"\"\"\n",
    "    Use tippecanoe to create a MBTILE at dest_path from source_path.\n",
    "    layer_name is used for the name of the layer in the MBTILE.\n",
    "    Regex file path (/*.geojson) is supported for source_path.\n",
    "    \"\"\"\n",
    "    cmd = f\"tippecanoe -o {dest_path} -l {layer_name} {opts} {source_path}\"\n",
    "    print(f\"Processing: {cmd}\")\n",
    "    r = subprocess.call(cmd, shell=True)\n",
    "    if r == 0:\n",
    "        print(\"Task created\")\n",
    "    else:\n",
    "        print(\"Task failed\")\n",
    "    print(\"Finished processing\")"
   ]
  },
  {
   "cell_type": "markdown",
   "metadata": {},
   "source": [
    "**mbtile_to_pbf**"
   ]
  },
  {
   "cell_type": "code",
   "execution_count": 8,
   "metadata": {},
   "outputs": [],
   "source": [
    "def mbtile_to_pbf(input_mbtiles, output_path):\n",
    "    \"\"\"\n",
    "    Use mb-util to convert mbtiles to to pbf in z/x/y.pbf form.\n",
    "    To export MBTiles to disk, specify a directory that does not yet exist.\n",
    "    \"\"\"\n",
    "    cmd = f\"mb-util {input_mbtiles} {output_path} --image_format=pbf\"\n",
    "    print(f\"Processing: {cmd}\")\n",
    "    r = subprocess.call(cmd, shell=True)\n",
    "    if r == 0:\n",
    "        print(\"Task created\")\n",
    "    else:\n",
    "        print(\"Task failed\")\n",
    "    print(\"Finished processing\")"
   ]
  },
  {
   "cell_type": "markdown",
   "metadata": {},
   "source": [
    "**upload_local_directory_to_gcs**"
   ]
  },
  {
   "cell_type": "code",
   "execution_count": 9,
   "metadata": {},
   "outputs": [],
   "source": [
    "def upload_local_directory_to_gcs(bucket_name, local_path, destination_blob_path):\n",
    "    \"\"\"Uploads a directory to the bucket.\"\"\"\n",
    "    \n",
    "    credentials_dict = {\n",
    "          \"type\": \"service_account\",\n",
    "          \"project_id\": os.getenv(\"PROJECT_ID\"),\n",
    "         \"private_key_id\": os.getenv(\"PRIVATE_KEY_ID\"),\n",
    "          \"private_key\":os.getenv(\"PRIVATE_KEY\"),\n",
    "         \"client_email\": os.getenv(\"CLIENT_EMAIL\"),\n",
    "          \"token_uri\":os.getenv(\"TOKEN_URI\"),   \n",
    "    } \n",
    "    \n",
    "\n",
    "    credentials = service_account.Credentials.from_service_account_info(credentials_dict)\n",
    "    storage_client = storage.Client(project='project_id', credentials=credentials)\n",
    "    \n",
    "    bucket = storage_client.bucket(bucket_name)\n",
    "    rel_paths = glob.glob(local_path + '/**', recursive=True)\n",
    "\n",
    "    for local_file in rel_paths:\n",
    "        remote_path = f'{destination_blob_path}{\"/\".join(local_file.split(os.sep)[len(local_path.split(os.sep))-1:])}'\n",
    "        if os.path.isfile(local_file):\n",
    "            blob = bucket.blob(remote_path)\n",
    "            print(\n",
    "                \"File {} uploaded to {}.\".format(\n",
    "                    local_file, remote_path\n",
    "                )\n",
    "            )\n",
    "            blob.upload_from_filename(local_file)"
   ]
  },
  {
   "cell_type": "markdown",
   "metadata": {},
   "source": [
    "**vector_tile_processing**"
   ]
  },
  {
   "cell_type": "code",
   "execution_count": 10,
   "metadata": {},
   "outputs": [],
   "source": [
    "def vector_tile_processing(path, dataset, folder_name, gdf, geo_type='Municipios', pbf_format=True, upload_to_GCS=True):\n",
    "    geo_name = geo_type.lower().replace(' ', '_')\n",
    "    \n",
    "    # Create output folder\n",
    "    try:\n",
    "        os.mkdir(f\"{path}/{folder_name}\")\n",
    "    except OSError:\n",
    "        print (\"Creation of the directory %s failed\" % folder_name)\n",
    "    else:\n",
    "        print (\"Successfully created the directory %s \" % folder_name)\n",
    "\n",
    "    # Save GeoDataFrame as `GeoJSON`\n",
    "    with open(f\"{path}/{folder_name}/{geo_name}.json\", 'w') as outfile:\n",
    "        outfile.write(gdf.to_json())\n",
    "\n",
    "    # Create MBTiles\n",
    "    print('Creating MBTiles')\n",
    "    source_path = f\"{path}/{folder_name}/{geo_name}.json\"\n",
    "    mbtil_path = f\"{path}/{folder_name}/{geo_name}.mbtiles\"\n",
    "    #create_mbtiles(source_path, mbtil_path, layer_name, opts=\"-zg --drop-densest-as-needed --extend-zooms-if-still-dropping --force --read-parallel\")\n",
    "    create_mbtiles(source_path, mbtil_path, folder_name, opts=\"-Z1 -z10 --force\")\n",
    "\n",
    "    # Convert from `MBTiles` to `pbf` in {z}/{x}/{y}.pbf format\n",
    "    print('Converting from MBTiles to pbf')\n",
    "    if pbf_format:\n",
    "        output_path = f\"{path}/{folder_name}/{geo_name}\"\n",
    "        mbtile_to_pbf(mbtil_path, output_path)\n",
    "\n",
    "    # Change folder permission\n",
    "    os.chmod(f\"{path}/{folder_name}/{geo_name}\", 0o777)\n",
    "\n",
    "    # Rename files from `.pbf` to `.vector.pbf.gz`\n",
    "    for root, dirs, files in os.walk(f\"{path}/{folder_name}/{geo_name}\"):\n",
    "        for file in files:\n",
    "            if file.endswith(\".pbf\"):\n",
    "                in_file = os.path.join(root,file)\n",
    "                os.rename(in_file, in_file.replace('.pbf', '.vector.pbf.gz'))\n",
    "\n",
    "    # gunzip folder\n",
    "    cmd = f\"gunzip -r {path}/{folder_name}/{geo_name}\"\n",
    "    print(f\"Processing: {cmd}\")\n",
    "    r = subprocess.call(cmd, shell=True)\n",
    "    if r == 0:\n",
    "        print(\"Task created\")\n",
    "    else:\n",
    "        print(\"Task failed\")\n",
    "    print(\"Finished processing\")\n",
    "\n",
    "    # Upload `pbf` files to GCS\n",
    "    print('Uploading pbf files to GCS')\n",
    "    if upload_to_GCS:\n",
    "        load_dotenv()\n",
    "\n",
    "        bucket_name = 'ecf-agricultural-climate-impact'\n",
    "        local_path = f\"{path}/{folder_name}/{geo_name}\"\n",
    "        destination_blob_path = f\"MBTiles/{folder_name}/\"\n",
    "\n",
    "        upload_local_directory_to_gcs(bucket_name, local_path, destination_blob_path)"
   ]
  },
  {
   "cell_type": "markdown",
   "metadata": {},
   "source": [
    "**all_processing**"
   ]
  },
  {
   "cell_type": "code",
   "execution_count": 11,
   "metadata": {},
   "outputs": [],
   "source": [
    "def all_processing(dataset, indicator, gdf_vectors, path, folder_name, geo_types = ['Provincias', 'Municipios']):\n",
    "    for geo_type in geo_types:\n",
    "        print(geo_type)\n",
    "        # Read data\n",
    "        gdf = read_indicators(dataset, indicator, gdf_vectors, geo_type)\n",
    "\n",
    "        # Reorganice data\n",
    "        gdf = reorganize_data_new(gdf, geo_type) \n",
    "\n",
    "        # Create `MBTiles` and upload to GCS in {z}/{x}/{y}.pbf format\n",
    "        vector_tile_processing(path, dataset, folder_name, gdf, geo_type, pbf_format=True, upload_to_GCS=True)"
   ]
  },
  {
   "cell_type": "markdown",
   "metadata": {},
   "source": [
    "# Data import"
   ]
  },
  {
   "cell_type": "markdown",
   "metadata": {},
   "source": [
    "## Comunidades autonomas"
   ]
  },
  {
   "cell_type": "code",
   "execution_count": 12,
   "metadata": {},
   "outputs": [],
   "source": [
    "comunidades = gpd.read_file(f'../../datasets/processed/comunidades.geojson')\n",
    "comunidades.sort_values(['CO_CCAA'], inplace = True)"
   ]
  },
  {
   "cell_type": "markdown",
   "metadata": {},
   "source": [
    "## Provincias"
   ]
  },
  {
   "cell_type": "code",
   "execution_count": 13,
   "metadata": {},
   "outputs": [],
   "source": [
    "provincias = gpd.read_file(f'../../datasets/raw/georegions/Provincias/Provincias.shp')\n",
    "provincias.sort_values(['CO_CCAA', 'CO_PROVINC'], inplace = True)"
   ]
  },
  {
   "cell_type": "markdown",
   "metadata": {},
   "source": [
    "## Municipios de España"
   ]
  },
  {
   "cell_type": "code",
   "execution_count": 14,
   "metadata": {},
   "outputs": [],
   "source": [
    "municipios = gpd.read_file(f'../../datasets/raw/georegions/Municipios/Municipios_IGN.shp')\n",
    "municipios.sort_values(['CODNUT1', 'CODNUT2', 'CODNUT3', 'CODIGOINE'], inplace = True)\n",
    "\n",
    "# Remove Canarias, Ceuta, and Melilla\n",
    "municipios = municipios[~municipios['CODNUT2'].isin(['ES70', 'ES63', 'ES64'])]\n",
    "municipios = municipios.reset_index(drop=True)"
   ]
  },
  {
   "cell_type": "markdown",
   "metadata": {},
   "source": [
    "## Rejilla viñedos"
   ]
  },
  {
   "cell_type": "code",
   "execution_count": 15,
   "metadata": {},
   "outputs": [],
   "source": [
    "rejilla = gpd.read_file('../../datasets/processed/rejilla_viñedos.geojson')\n",
    "rejilla.sort_values(['grid_id'], inplace = True)"
   ]
  },
  {
   "cell_type": "markdown",
   "metadata": {},
   "source": [
    "**Put all vector data together** "
   ]
  },
  {
   "cell_type": "code",
   "execution_count": 16,
   "metadata": {},
   "outputs": [],
   "source": [
    "gdf_vectors = {'Comunidades autonomas': comunidades,\n",
    "\"Provincias\": provincias,\n",
    "\"Municipios\": municipios,\n",
    "\"Rejilla\": rejilla}"
   ]
  },
  {
   "cell_type": "markdown",
   "metadata": {},
   "source": [
    "# Create tiles\n",
    "\n",
    "## Aumento de temperaturas proyectadas por municipio\n",
    "**Create all tiles**"
   ]
  },
  {
   "cell_type": "code",
   "execution_count": null,
   "metadata": {},
   "outputs": [],
   "source": [
    "dataset = 'climate_indicators'\n",
    "indicator = 'mean_Tmean_Yearly_change'\n",
    "path = '../../datasets/processed/MBTiles'\n",
    "folder_name = 'Aumento_temperaturas'\n",
    "geo_types = ['Comunidades autonomas', 'Provincias', 'Municipios']\n",
    "\n",
    "all_processing(dataset, indicator, gdf_vectors, path, folder_name, geo_types)"
   ]
  },
  {
   "cell_type": "markdown",
   "metadata": {},
   "source": [
    "**Upload files to GCS**"
   ]
  },
  {
   "cell_type": "code",
   "execution_count": null,
   "metadata": {},
   "outputs": [],
   "source": [
    "for geo_type in geo_types:\n",
    "    print(geo_type)\n",
    "    geo_name = geo_type.lower().replace(' ', '_')\n",
    "    # Upload files\n",
    "    \n",
    "    bucket_name = 'ecf-agricultural-climate-impact'\n",
    "    local_path = f\"{path}/{folder_name}/{geo_name}\"\n",
    "    destination_blob_path = f\"MBTiles/{folder_name}/\"\n",
    "    upload_local_directory_to_gcs(bucket_name, local_path, destination_blob_path)"
   ]
  },
  {
   "cell_type": "markdown",
   "metadata": {},
   "source": [
    "**Create `MBTile` for a single `scenario` and `year`**"
   ]
  },
  {
   "cell_type": "code",
   "execution_count": null,
   "metadata": {},
   "outputs": [],
   "source": [
    "dataset = 'climate_indicators'\n",
    "indicator = 'mean_Tmean_Yearly_change'\n",
    "path = '../../datasets/processed/MBTiles'\n",
    "folder_name = 'Aumento_temperaturas'\n",
    "geo_type = 'Municipios'\n",
    "\n",
    "# Read data\n",
    "gdf = read_indicators(dataset, indicator, gdf_vectors, geo_type)\n",
    "gdf = gdf[(gdf['scenario'] == 'rcp45') & (gdf['year'] == '2035 - 2065')]\n",
    "gdf.head()"
   ]
  },
  {
   "cell_type": "code",
   "execution_count": null,
   "metadata": {},
   "outputs": [],
   "source": [
    "# Save GeoDataFrame as `GeoJSON`\n",
    "geo_name = geo_type.lower().replace(' ', '_')\n",
    "gdf.to_file(f\"{path}/{folder_name}/{geo_name}.json\", driver=\"GeoJSON\")\n",
    "\n",
    "# Create MBTiles\n",
    "print('Creating MBTiles')\n",
    "layer_name = folder_name\n",
    "source_path = f\"{path}/{folder_name}/{geo_name}.json\"\n",
    "mbtil_path = f\"{path}/{folder_name}/{geo_name}.mbtiles\"\n",
    "#create_mbtiles(source_path, mbtil_path, layer_name, opts=\"-zg --drop-densest-as-needed --extend-zooms-if-still-dropping --force --read-parallel\")\n",
    "create_mbtiles(source_path, mbtil_path, layer_name, opts=\"-Z1 -z12 --drop-densest-as-needed --force\")"
   ]
  },
  {
   "cell_type": "markdown",
   "metadata": {},
   "source": [
    "## Duración de las sequías\n",
    "**Create all tiles**"
   ]
  },
  {
   "cell_type": "code",
   "execution_count": null,
   "metadata": {},
   "outputs": [],
   "source": [
    "dataset = 'climate_indicators'\n",
    "indicator = 'dry-spells_maximum-length'\n",
    "path = '../../datasets/processed/MBTiles'\n",
    "folder_name = 'Duracion_sequias'\n",
    "geo_types = ['Comunidades autonomas', 'Provincias', 'Municipios']\n",
    "\n",
    "all_processing(dataset, indicator, gdf_vectors, path, folder_name, geo_types)"
   ]
  },
  {
   "cell_type": "markdown",
   "metadata": {},
   "source": [
    "**Upload files to GCS**"
   ]
  },
  {
   "cell_type": "code",
   "execution_count": null,
   "metadata": {},
   "outputs": [],
   "source": [
    "for geo_type in geo_types:\n",
    "    print(geo_type)\n",
    "    geo_name = geo_type.lower().replace(' ', '_')\n",
    "    # Upload files\n",
    "    \n",
    "    bucket_name = 'ecf-agricultural-climate-impact'\n",
    "    local_path = f\"{path}/{folder_name}/{geo_name}\"\n",
    "    destination_blob_path = f\"MBTiles/{folder_name}/\"\n",
    "    upload_local_directory_to_gcs(bucket_name, local_path, destination_blob_path)"
   ]
  },
  {
   "cell_type": "markdown",
   "metadata": {},
   "source": [
    "**Create `MBTile` for a single `scenario` and `year`**"
   ]
  },
  {
   "cell_type": "code",
   "execution_count": 368,
   "metadata": {},
   "outputs": [
    {
     "data": {
      "text/html": [
       "<div>\n",
       "<style scoped>\n",
       "    .dataframe tbody tr th:only-of-type {\n",
       "        vertical-align: middle;\n",
       "    }\n",
       "\n",
       "    .dataframe tbody tr th {\n",
       "        vertical-align: top;\n",
       "    }\n",
       "\n",
       "    .dataframe thead th {\n",
       "        text-align: right;\n",
       "    }\n",
       "</style>\n",
       "<table border=\"1\" class=\"dataframe\">\n",
       "  <thead>\n",
       "    <tr style=\"text-align: right;\">\n",
       "      <th></th>\n",
       "      <th>NAMEUNIT</th>\n",
       "      <th>CODIGOINE</th>\n",
       "      <th>dataset</th>\n",
       "      <th>indicator</th>\n",
       "      <th>scenario</th>\n",
       "      <th>value</th>\n",
       "      <th>year</th>\n",
       "      <th>unit</th>\n",
       "      <th>geometry</th>\n",
       "    </tr>\n",
       "  </thead>\n",
       "  <tbody>\n",
       "    <tr>\n",
       "      <th>4</th>\n",
       "      <td>Abegondo</td>\n",
       "      <td>15001</td>\n",
       "      <td>Bioclimatic indicators</td>\n",
       "      <td>dry-spells_maximum-length</td>\n",
       "      <td>rcp45</td>\n",
       "      <td>35.331772</td>\n",
       "      <td>2041 - 2060</td>\n",
       "      <td>days</td>\n",
       "      <td>POLYGON ((-8.35892 43.14721, -8.35864 43.14764...</td>\n",
       "    </tr>\n",
       "    <tr>\n",
       "      <th>11</th>\n",
       "      <td>Ames</td>\n",
       "      <td>15002</td>\n",
       "      <td>Bioclimatic indicators</td>\n",
       "      <td>dry-spells_maximum-length</td>\n",
       "      <td>rcp45</td>\n",
       "      <td>35.904419</td>\n",
       "      <td>2041 - 2060</td>\n",
       "      <td>days</td>\n",
       "      <td>POLYGON ((-8.72471 42.88868, -8.72403 42.88872...</td>\n",
       "    </tr>\n",
       "    <tr>\n",
       "      <th>18</th>\n",
       "      <td>Aranga</td>\n",
       "      <td>15003</td>\n",
       "      <td>Bioclimatic indicators</td>\n",
       "      <td>dry-spells_maximum-length</td>\n",
       "      <td>rcp45</td>\n",
       "      <td>33.225460</td>\n",
       "      <td>2041 - 2060</td>\n",
       "      <td>days</td>\n",
       "      <td>POLYGON ((-8.11605 43.21256, -8.11120 43.21299...</td>\n",
       "    </tr>\n",
       "    <tr>\n",
       "      <th>25</th>\n",
       "      <td>Ares</td>\n",
       "      <td>15004</td>\n",
       "      <td>Bioclimatic indicators</td>\n",
       "      <td>dry-spells_maximum-length</td>\n",
       "      <td>rcp45</td>\n",
       "      <td>35.112511</td>\n",
       "      <td>2041 - 2060</td>\n",
       "      <td>days</td>\n",
       "      <td>MULTIPOLYGON (((-8.26941 43.42891, -8.26951 43...</td>\n",
       "    </tr>\n",
       "    <tr>\n",
       "      <th>32</th>\n",
       "      <td>Arteixo</td>\n",
       "      <td>15005</td>\n",
       "      <td>Bioclimatic indicators</td>\n",
       "      <td>dry-spells_maximum-length</td>\n",
       "      <td>rcp45</td>\n",
       "      <td>35.188190</td>\n",
       "      <td>2041 - 2060</td>\n",
       "      <td>days</td>\n",
       "      <td>MULTIPOLYGON (((-8.55475 43.31382, -8.55483 43...</td>\n",
       "    </tr>\n",
       "  </tbody>\n",
       "</table>\n",
       "</div>"
      ],
      "text/plain": [
       "    NAMEUNIT  CODIGOINE                 dataset                  indicator  \\\n",
       "4   Abegondo      15001  Bioclimatic indicators  dry-spells_maximum-length   \n",
       "11      Ames      15002  Bioclimatic indicators  dry-spells_maximum-length   \n",
       "18    Aranga      15003  Bioclimatic indicators  dry-spells_maximum-length   \n",
       "25      Ares      15004  Bioclimatic indicators  dry-spells_maximum-length   \n",
       "32   Arteixo      15005  Bioclimatic indicators  dry-spells_maximum-length   \n",
       "\n",
       "   scenario      value         year  unit  \\\n",
       "4     rcp45  35.331772  2041 - 2060  days   \n",
       "11    rcp45  35.904419  2041 - 2060  days   \n",
       "18    rcp45  33.225460  2041 - 2060  days   \n",
       "25    rcp45  35.112511  2041 - 2060  days   \n",
       "32    rcp45  35.188190  2041 - 2060  days   \n",
       "\n",
       "                                             geometry  \n",
       "4   POLYGON ((-8.35892 43.14721, -8.35864 43.14764...  \n",
       "11  POLYGON ((-8.72471 42.88868, -8.72403 42.88872...  \n",
       "18  POLYGON ((-8.11605 43.21256, -8.11120 43.21299...  \n",
       "25  MULTIPOLYGON (((-8.26941 43.42891, -8.26951 43...  \n",
       "32  MULTIPOLYGON (((-8.55475 43.31382, -8.55483 43...  "
      ]
     },
     "execution_count": 368,
     "metadata": {},
     "output_type": "execute_result"
    }
   ],
   "source": [
    "dataset = 'climate_indicators'\n",
    "indicator = 'dry-spells_maximum-length'\n",
    "path = '../../datasets/processed/MBTiles'\n",
    "folder_name = 'Duracion_sequias'\n",
    "geo_type = 'Municipios'\n",
    "\n",
    "# Read data\n",
    "gdf = read_indicators(dataset, indicator, gdf_vectors, geo_type)\n",
    "\n",
    "gdf = gdf[(gdf['scenario'] == 'rcp45') & (gdf['year'] == '2041 - 2060')]\n",
    "gdf.head()"
   ]
  },
  {
   "cell_type": "code",
   "execution_count": 460,
   "metadata": {},
   "outputs": [
    {
     "name": "stdout",
     "output_type": "stream",
     "text": [
      "Creating MBTiles\n",
      "Processing: tippecanoe -o ../../datasets/processed/MBTiles/Duracion_sequias/municipios.mbtiles -l Duracion_sequias -Z1 -z12 --drop-densest-as-needed --force ../../datasets/processed/MBTiles/Duracion_sequias/municipios.json\n"
     ]
    },
    {
     "name": "stderr",
     "output_type": "stream",
     "text": [
      "8115 features, 10702553 bytes of geometry, 52417 bytes of separate metadata, 329422 bytes of string pool\n",
      "  99.9%  12/2084/1520  \r"
     ]
    },
    {
     "name": "stdout",
     "output_type": "stream",
     "text": [
      "Task created\n",
      "Finished processing\n"
     ]
    },
    {
     "name": "stderr",
     "output_type": "stream",
     "text": [
      "\n"
     ]
    }
   ],
   "source": [
    "# Save GeoDataFrame as `GeoJSON`\n",
    "geo_name = geo_type.lower().replace(' ', '_')\n",
    "gdf.to_file(f\"{path}/{folder_name}/{geo_name}.json\", driver=\"GeoJSON\")\n",
    "\n",
    "# Create MBTiles\n",
    "print('Creating MBTiles')\n",
    "layer_name = folder_name\n",
    "source_path = f\"{path}/{folder_name}/{geo_name}.json\"\n",
    "mbtil_path = f\"{path}/{folder_name}/{geo_name}.mbtiles\"\n",
    "#create_mbtiles(source_path, mbtil_path, layer_name, opts=\"-zg --drop-densest-as-needed --extend-zooms-if-still-dropping --force --read-parallel\")\n",
    "create_mbtiles(source_path, mbtil_path, layer_name, opts=\"-Z1 -z12 --drop-densest-as-needed --force\")"
   ]
  },
  {
   "cell_type": "markdown",
   "metadata": {},
   "source": [
    "## Mapa de cultivos\n",
    "**Read data**"
   ]
  },
  {
   "cell_type": "code",
   "execution_count": 82,
   "metadata": {},
   "outputs": [],
   "source": [
    "gdf_corine = gpd.read_file('../../datasets/raw/crops/CLC2018_GDB/CLC2018_ES.gdb', driver=\"FileGDB\", layer='CLC18_ES')\n",
    "# Re-Project\n",
    "gdf_corine = gdf_corine.to_crs(\"EPSG:4326\")\n",
    "gdf_corine = gdf_corine.set_crs(\"EPSG:4326\")"
   ]
  },
  {
   "cell_type": "markdown",
   "metadata": {},
   "source": [
    "**Reorganice data**"
   ]
  },
  {
   "cell_type": "code",
   "execution_count": 21,
   "metadata": {},
   "outputs": [
    {
     "name": "stdout",
     "output_type": "stream",
     "text": [
      "Cereal\n",
      "Olivar\n",
      "Dehesa\n",
      "Viñedo\n"
     ]
    },
    {
     "data": {
      "text/html": [
       "<div>\n",
       "<style scoped>\n",
       "    .dataframe tbody tr th:only-of-type {\n",
       "        vertical-align: middle;\n",
       "    }\n",
       "\n",
       "    .dataframe tbody tr th {\n",
       "        vertical-align: top;\n",
       "    }\n",
       "\n",
       "    .dataframe thead th {\n",
       "        text-align: right;\n",
       "    }\n",
       "</style>\n",
       "<table border=\"1\" class=\"dataframe\">\n",
       "  <thead>\n",
       "    <tr style=\"text-align: right;\">\n",
       "      <th></th>\n",
       "      <th>ID</th>\n",
       "      <th>dataset</th>\n",
       "      <th>indicator</th>\n",
       "      <th>value</th>\n",
       "      <th>geometry</th>\n",
       "    </tr>\n",
       "  </thead>\n",
       "  <tbody>\n",
       "    <tr>\n",
       "      <th>16379</th>\n",
       "      <td>16382</td>\n",
       "      <td>Mapa de cultivos</td>\n",
       "      <td>Localización cultivo</td>\n",
       "      <td>Cereal</td>\n",
       "      <td>MULTIPOLYGON (((-5.64246 36.12721, -5.64226 36...</td>\n",
       "    </tr>\n",
       "    <tr>\n",
       "      <th>16380</th>\n",
       "      <td>16383</td>\n",
       "      <td>Mapa de cultivos</td>\n",
       "      <td>Localización cultivo</td>\n",
       "      <td>Cereal</td>\n",
       "      <td>MULTIPOLYGON (((-5.50050 36.17831, -5.50045 36...</td>\n",
       "    </tr>\n",
       "    <tr>\n",
       "      <th>16381</th>\n",
       "      <td>16384</td>\n",
       "      <td>Mapa de cultivos</td>\n",
       "      <td>Localización cultivo</td>\n",
       "      <td>Cereal</td>\n",
       "      <td>MULTIPOLYGON (((-5.50964 36.18659, -5.50953 36...</td>\n",
       "    </tr>\n",
       "    <tr>\n",
       "      <th>16382</th>\n",
       "      <td>16385</td>\n",
       "      <td>Mapa de cultivos</td>\n",
       "      <td>Localización cultivo</td>\n",
       "      <td>Cereal</td>\n",
       "      <td>MULTIPOLYGON (((-5.69228 36.18296, -5.69232 36...</td>\n",
       "    </tr>\n",
       "    <tr>\n",
       "      <th>16383</th>\n",
       "      <td>16386</td>\n",
       "      <td>Mapa de cultivos</td>\n",
       "      <td>Localización cultivo</td>\n",
       "      <td>Cereal</td>\n",
       "      <td>MULTIPOLYGON (((-5.46238 36.20897, -5.46238 36...</td>\n",
       "    </tr>\n",
       "  </tbody>\n",
       "</table>\n",
       "</div>"
      ],
      "text/plain": [
       "          ID           dataset             indicator   value  \\\n",
       "16379  16382  Mapa de cultivos  Localización cultivo  Cereal   \n",
       "16380  16383  Mapa de cultivos  Localización cultivo  Cereal   \n",
       "16381  16384  Mapa de cultivos  Localización cultivo  Cereal   \n",
       "16382  16385  Mapa de cultivos  Localización cultivo  Cereal   \n",
       "16383  16386  Mapa de cultivos  Localización cultivo  Cereal   \n",
       "\n",
       "                                                geometry  \n",
       "16379  MULTIPOLYGON (((-5.64246 36.12721, -5.64226 36...  \n",
       "16380  MULTIPOLYGON (((-5.50050 36.17831, -5.50045 36...  \n",
       "16381  MULTIPOLYGON (((-5.50964 36.18659, -5.50953 36...  \n",
       "16382  MULTIPOLYGON (((-5.69228 36.18296, -5.69232 36...  \n",
       "16383  MULTIPOLYGON (((-5.46238 36.20897, -5.46238 36...  "
      ]
     },
     "execution_count": 21,
     "metadata": {},
     "output_type": "execute_result"
    }
   ],
   "source": [
    "dic = {'Cereal': ['211', '212'],\n",
    "'Olivar': ['223'],\n",
    "'Dehesa': ['244'],\n",
    "'Viñedo': ['221']}\n",
    "\n",
    "gdf = gpd.GeoDataFrame(columns=['ID', 'value', 'geometry'])\n",
    "\n",
    "for crop in dic.keys():\n",
    "    print(crop)\n",
    "    gdf_tmp = gdf_corine[gdf_corine['CODE_18'].isin(dic[crop])].copy()\n",
    "    gdf_tmp['value'] = crop\n",
    "    gdf_tmp = gdf_tmp[['ID', 'value', 'geometry']]\n",
    "    \n",
    "    gdf  = pd.concat([gdf, gdf_tmp])\n",
    "\n",
    "gdf['dataset'] = 'Mapa de cultivos'\n",
    "gdf['indicator'] = 'Localización cultivo'\n",
    "\n",
    "gdf = gdf[['ID', 'dataset', 'indicator', 'value', 'geometry']]\n",
    "\n",
    "gdf.head()"
   ]
  },
  {
   "cell_type": "code",
   "execution_count": 23,
   "metadata": {},
   "outputs": [
    {
     "data": {
      "text/html": [
       "<div>\n",
       "<style scoped>\n",
       "    .dataframe tbody tr th:only-of-type {\n",
       "        vertical-align: middle;\n",
       "    }\n",
       "\n",
       "    .dataframe tbody tr th {\n",
       "        vertical-align: top;\n",
       "    }\n",
       "\n",
       "    .dataframe thead th {\n",
       "        text-align: right;\n",
       "    }\n",
       "</style>\n",
       "<table border=\"1\" class=\"dataframe\">\n",
       "  <thead>\n",
       "    <tr style=\"text-align: right;\">\n",
       "      <th></th>\n",
       "      <th>ID</th>\n",
       "      <th>dataset</th>\n",
       "      <th>indicator</th>\n",
       "      <th>value</th>\n",
       "      <th>geometry</th>\n",
       "      <th>crop_name</th>\n",
       "    </tr>\n",
       "  </thead>\n",
       "  <tbody>\n",
       "    <tr>\n",
       "      <th>16379</th>\n",
       "      <td>16382</td>\n",
       "      <td>Mapa de cultivos</td>\n",
       "      <td>Localización cultivo</td>\n",
       "      <td>2</td>\n",
       "      <td>MULTIPOLYGON (((-5.64246 36.12721, -5.64226 36...</td>\n",
       "      <td>Cereal</td>\n",
       "    </tr>\n",
       "    <tr>\n",
       "      <th>16380</th>\n",
       "      <td>16383</td>\n",
       "      <td>Mapa de cultivos</td>\n",
       "      <td>Localización cultivo</td>\n",
       "      <td>2</td>\n",
       "      <td>MULTIPOLYGON (((-5.50050 36.17831, -5.50045 36...</td>\n",
       "      <td>Cereal</td>\n",
       "    </tr>\n",
       "    <tr>\n",
       "      <th>16381</th>\n",
       "      <td>16384</td>\n",
       "      <td>Mapa de cultivos</td>\n",
       "      <td>Localización cultivo</td>\n",
       "      <td>2</td>\n",
       "      <td>MULTIPOLYGON (((-5.50964 36.18659, -5.50953 36...</td>\n",
       "      <td>Cereal</td>\n",
       "    </tr>\n",
       "    <tr>\n",
       "      <th>16382</th>\n",
       "      <td>16385</td>\n",
       "      <td>Mapa de cultivos</td>\n",
       "      <td>Localización cultivo</td>\n",
       "      <td>2</td>\n",
       "      <td>MULTIPOLYGON (((-5.69228 36.18296, -5.69232 36...</td>\n",
       "      <td>Cereal</td>\n",
       "    </tr>\n",
       "    <tr>\n",
       "      <th>16383</th>\n",
       "      <td>16386</td>\n",
       "      <td>Mapa de cultivos</td>\n",
       "      <td>Localización cultivo</td>\n",
       "      <td>2</td>\n",
       "      <td>MULTIPOLYGON (((-5.46238 36.20897, -5.46238 36...</td>\n",
       "      <td>Cereal</td>\n",
       "    </tr>\n",
       "    <tr>\n",
       "      <th>...</th>\n",
       "      <td>...</td>\n",
       "      <td>...</td>\n",
       "      <td>...</td>\n",
       "      <td>...</td>\n",
       "      <td>...</td>\n",
       "      <td>...</td>\n",
       "    </tr>\n",
       "    <tr>\n",
       "      <th>48671</th>\n",
       "      <td>48674</td>\n",
       "      <td>Mapa de cultivos</td>\n",
       "      <td>Localización cultivo</td>\n",
       "      <td>3</td>\n",
       "      <td>MULTIPOLYGON (((-6.66044 42.73515, -6.66040 42...</td>\n",
       "      <td>Viñedo</td>\n",
       "    </tr>\n",
       "    <tr>\n",
       "      <th>48672</th>\n",
       "      <td>48675</td>\n",
       "      <td>Mapa de cultivos</td>\n",
       "      <td>Localización cultivo</td>\n",
       "      <td>3</td>\n",
       "      <td>MULTIPOLYGON (((-1.78326 42.79147, -1.78299 42...</td>\n",
       "      <td>Viñedo</td>\n",
       "    </tr>\n",
       "    <tr>\n",
       "      <th>48673</th>\n",
       "      <td>48676</td>\n",
       "      <td>Mapa de cultivos</td>\n",
       "      <td>Localización cultivo</td>\n",
       "      <td>3</td>\n",
       "      <td>MULTIPOLYGON (((-7.62373 42.80460, -7.62367 42...</td>\n",
       "      <td>Viñedo</td>\n",
       "    </tr>\n",
       "    <tr>\n",
       "      <th>48674</th>\n",
       "      <td>48677</td>\n",
       "      <td>Mapa de cultivos</td>\n",
       "      <td>Localización cultivo</td>\n",
       "      <td>3</td>\n",
       "      <td>MULTIPOLYGON (((-2.65395 43.22925, -2.65397 43...</td>\n",
       "      <td>Viñedo</td>\n",
       "    </tr>\n",
       "    <tr>\n",
       "      <th>48675</th>\n",
       "      <td>48678</td>\n",
       "      <td>Mapa de cultivos</td>\n",
       "      <td>Localización cultivo</td>\n",
       "      <td>3</td>\n",
       "      <td>MULTIPOLYGON (((-7.93997 43.59821, -7.93958 43...</td>\n",
       "      <td>Viñedo</td>\n",
       "    </tr>\n",
       "  </tbody>\n",
       "</table>\n",
       "<p>44488 rows × 6 columns</p>\n",
       "</div>"
      ],
      "text/plain": [
       "          ID           dataset             indicator  value  \\\n",
       "16379  16382  Mapa de cultivos  Localización cultivo      2   \n",
       "16380  16383  Mapa de cultivos  Localización cultivo      2   \n",
       "16381  16384  Mapa de cultivos  Localización cultivo      2   \n",
       "16382  16385  Mapa de cultivos  Localización cultivo      2   \n",
       "16383  16386  Mapa de cultivos  Localización cultivo      2   \n",
       "...      ...               ...                   ...    ...   \n",
       "48671  48674  Mapa de cultivos  Localización cultivo      3   \n",
       "48672  48675  Mapa de cultivos  Localización cultivo      3   \n",
       "48673  48676  Mapa de cultivos  Localización cultivo      3   \n",
       "48674  48677  Mapa de cultivos  Localización cultivo      3   \n",
       "48675  48678  Mapa de cultivos  Localización cultivo      3   \n",
       "\n",
       "                                                geometry crop_name  \n",
       "16379  MULTIPOLYGON (((-5.64246 36.12721, -5.64226 36...    Cereal  \n",
       "16380  MULTIPOLYGON (((-5.50050 36.17831, -5.50045 36...    Cereal  \n",
       "16381  MULTIPOLYGON (((-5.50964 36.18659, -5.50953 36...    Cereal  \n",
       "16382  MULTIPOLYGON (((-5.69228 36.18296, -5.69232 36...    Cereal  \n",
       "16383  MULTIPOLYGON (((-5.46238 36.20897, -5.46238 36...    Cereal  \n",
       "...                                                  ...       ...  \n",
       "48671  MULTIPOLYGON (((-6.66044 42.73515, -6.66040 42...    Viñedo  \n",
       "48672  MULTIPOLYGON (((-1.78326 42.79147, -1.78299 42...    Viñedo  \n",
       "48673  MULTIPOLYGON (((-7.62373 42.80460, -7.62367 42...    Viñedo  \n",
       "48674  MULTIPOLYGON (((-2.65395 43.22925, -2.65397 43...    Viñedo  \n",
       "48675  MULTIPOLYGON (((-7.93997 43.59821, -7.93958 43...    Viñedo  \n",
       "\n",
       "[44488 rows x 6 columns]"
      ]
     },
     "execution_count": 23,
     "metadata": {},
     "output_type": "execute_result"
    }
   ],
   "source": [
    "dic = {'Cereal': 2,\n",
    "'Olivar': 1,\n",
    "'Dehesa': 4,\n",
    "'Viñedo': 3}\n",
    "gdf['crop_name'] = gdf['value']\n",
    "gdf['value'] = gdf['crop_name'].apply(lambda x: dic[x])\n",
    "gdf"
   ]
  },
  {
   "cell_type": "code",
   "execution_count": null,
   "metadata": {},
   "outputs": [],
   "source": [
    "path = '../../datasets/processed/MBTiles'\n",
    "folder_name = 'Mapa_cultivos'\n",
    "name = 'Mapa_cultivos'\n",
    "geo_name= 'Mapa_cultivos'\n",
    "\n",
    "# Save GeoDataFrame as `GeoJSON`\n",
    "gdf.to_file(f\"{path}/{folder_name}/{geo_name}.json\", driver=\"GeoJSON\")\n",
    "\n",
    "# Create MBTiles\n",
    "print('Creating MBTiles')\n",
    "source_path = f\"{path}/{folder_name}/{geo_name}.json\"\n",
    "mbtil_path = f\"{path}/{folder_name}/{geo_name}.mbtiles\"\n",
    "#create_mbtiles(source_path, mbtil_path, layer_name, opts=\"-zg --drop-densest-as-needed --extend-zooms-if-still-dropping --force --read-parallel\")\n",
    "create_mbtiles(source_path, mbtil_path, folder_name, opts=\"-Z1 -z10 --drop-densest-as-needed --force\")"
   ]
  },
  {
   "cell_type": "markdown",
   "metadata": {},
   "source": [
    "**Upload files to GCS**"
   ]
  },
  {
   "cell_type": "code",
   "execution_count": 10,
   "metadata": {},
   "outputs": [],
   "source": [
    "path = '../../datasets/processed/MBTiles'\n",
    "folder_name = 'Mapa_cultivos'\n",
    "name = 'Mapa_cultivos'\n",
    "geo_name= 'Mapa_cultivos'"
   ]
  },
  {
   "cell_type": "code",
   "execution_count": null,
   "metadata": {},
   "outputs": [],
   "source": [
    "bucket_name = 'ecf-agricultural-climate-impact'\n",
    "local_path = f\"{path}/{folder_name}\"\n",
    "destination_blob_path = f\"MBTiles/\"\n",
    "upload_local_directory_to_gcs(bucket_name, local_path, destination_blob_path)"
   ]
  },
  {
   "cell_type": "markdown",
   "metadata": {},
   "source": [
    "#### **Create `MBTiles` and upload to GCS in {z}/{x}/{y}.pbf format**"
   ]
  },
  {
   "cell_type": "code",
   "execution_count": null,
   "metadata": {},
   "outputs": [],
   "source": [
    "path = '../../datasets/processed/MBTiles'\n",
    "folder_name = 'Mapa_cultivos'\n",
    "name = 'Mapa_cultivos'\n",
    "\n",
    "vector_tile_processing(path, name, folder_name, gdf, pbf_format=True, upload_to_GCS=True)"
   ]
  },
  {
   "cell_type": "markdown",
   "metadata": {},
   "source": [
    "## Proyecciones de rendimiento del olivo.\n",
    "**Create all tiles**"
   ]
  },
  {
   "cell_type": "code",
   "execution_count": null,
   "metadata": {},
   "outputs": [],
   "source": [
    "dataset = 'olive_grove_indicators'\n",
    "indicator = 'yield_change_per'\n",
    "path = '../../datasets/processed/MBTiles'\n",
    "folder_name = 'Proyecciones_rendimiento_olivar'\n",
    "geo_types = ['Comunidades autonomas', 'Provincias', 'Municipios']\n",
    "\n",
    "all_processing(dataset, indicator, gdf_vectors, path, folder_name, geo_types)"
   ]
  },
  {
   "cell_type": "markdown",
   "metadata": {},
   "source": [
    "**Upload files to GCS**"
   ]
  },
  {
   "cell_type": "code",
   "execution_count": null,
   "metadata": {},
   "outputs": [],
   "source": [
    "for geo_type in geo_types:\n",
    "    print(geo_type)\n",
    "    geo_name = geo_type.lower().replace(' ', '_')\n",
    "    # Upload files\n",
    "    \n",
    "    bucket_name = 'ecf-agricultural-climate-impact'\n",
    "    local_path = f\"{path}/{folder_name}/{geo_name}\"\n",
    "    destination_blob_path = f\"MBTiles/{folder_name}/\"\n",
    "    upload_local_directory_to_gcs(bucket_name, local_path, destination_blob_path)"
   ]
  },
  {
   "cell_type": "markdown",
   "metadata": {},
   "source": [
    "**Create `MBTile` for a single `scenario` and `year`**"
   ]
  },
  {
   "cell_type": "code",
   "execution_count": 369,
   "metadata": {},
   "outputs": [
    {
     "data": {
      "text/html": [
       "<div>\n",
       "<style scoped>\n",
       "    .dataframe tbody tr th:only-of-type {\n",
       "        vertical-align: middle;\n",
       "    }\n",
       "\n",
       "    .dataframe tbody tr th {\n",
       "        vertical-align: top;\n",
       "    }\n",
       "\n",
       "    .dataframe thead th {\n",
       "        text-align: right;\n",
       "    }\n",
       "</style>\n",
       "<table border=\"1\" class=\"dataframe\">\n",
       "  <thead>\n",
       "    <tr style=\"text-align: right;\">\n",
       "      <th></th>\n",
       "      <th>NAMEUNIT</th>\n",
       "      <th>CODIGOINE</th>\n",
       "      <th>dataset</th>\n",
       "      <th>indicator</th>\n",
       "      <th>scenario</th>\n",
       "      <th>value</th>\n",
       "      <th>year</th>\n",
       "      <th>unit</th>\n",
       "      <th>geometry</th>\n",
       "    </tr>\n",
       "  </thead>\n",
       "  <tbody>\n",
       "    <tr>\n",
       "      <th>0</th>\n",
       "      <td>Abegondo</td>\n",
       "      <td>15001</td>\n",
       "      <td>Olivar</td>\n",
       "      <td>yield_change_per</td>\n",
       "      <td>rcp45</td>\n",
       "      <td>NaN</td>\n",
       "      <td>2041–2070</td>\n",
       "      <td>%</td>\n",
       "      <td>POLYGON ((-8.35892 43.14721, -8.35864 43.14764...</td>\n",
       "    </tr>\n",
       "    <tr>\n",
       "      <th>1</th>\n",
       "      <td>Ames</td>\n",
       "      <td>15002</td>\n",
       "      <td>Olivar</td>\n",
       "      <td>yield_change_per</td>\n",
       "      <td>rcp45</td>\n",
       "      <td>NaN</td>\n",
       "      <td>2041–2070</td>\n",
       "      <td>%</td>\n",
       "      <td>POLYGON ((-8.72471 42.88868, -8.72403 42.88872...</td>\n",
       "    </tr>\n",
       "    <tr>\n",
       "      <th>2</th>\n",
       "      <td>Aranga</td>\n",
       "      <td>15003</td>\n",
       "      <td>Olivar</td>\n",
       "      <td>yield_change_per</td>\n",
       "      <td>rcp45</td>\n",
       "      <td>NaN</td>\n",
       "      <td>2041–2070</td>\n",
       "      <td>%</td>\n",
       "      <td>POLYGON ((-8.11605 43.21256, -8.11120 43.21299...</td>\n",
       "    </tr>\n",
       "    <tr>\n",
       "      <th>3</th>\n",
       "      <td>Ares</td>\n",
       "      <td>15004</td>\n",
       "      <td>Olivar</td>\n",
       "      <td>yield_change_per</td>\n",
       "      <td>rcp45</td>\n",
       "      <td>NaN</td>\n",
       "      <td>2041–2070</td>\n",
       "      <td>%</td>\n",
       "      <td>MULTIPOLYGON (((-8.26941 43.42891, -8.26951 43...</td>\n",
       "    </tr>\n",
       "    <tr>\n",
       "      <th>4</th>\n",
       "      <td>Arteixo</td>\n",
       "      <td>15005</td>\n",
       "      <td>Olivar</td>\n",
       "      <td>yield_change_per</td>\n",
       "      <td>rcp45</td>\n",
       "      <td>NaN</td>\n",
       "      <td>2041–2070</td>\n",
       "      <td>%</td>\n",
       "      <td>MULTIPOLYGON (((-8.55475 43.31382, -8.55483 43...</td>\n",
       "    </tr>\n",
       "  </tbody>\n",
       "</table>\n",
       "</div>"
      ],
      "text/plain": [
       "   NAMEUNIT  CODIGOINE dataset         indicator scenario  value       year  \\\n",
       "0  Abegondo      15001  Olivar  yield_change_per    rcp45    NaN  2041–2070   \n",
       "1      Ames      15002  Olivar  yield_change_per    rcp45    NaN  2041–2070   \n",
       "2    Aranga      15003  Olivar  yield_change_per    rcp45    NaN  2041–2070   \n",
       "3      Ares      15004  Olivar  yield_change_per    rcp45    NaN  2041–2070   \n",
       "4   Arteixo      15005  Olivar  yield_change_per    rcp45    NaN  2041–2070   \n",
       "\n",
       "  unit                                           geometry  \n",
       "0    %  POLYGON ((-8.35892 43.14721, -8.35864 43.14764...  \n",
       "1    %  POLYGON ((-8.72471 42.88868, -8.72403 42.88872...  \n",
       "2    %  POLYGON ((-8.11605 43.21256, -8.11120 43.21299...  \n",
       "3    %  MULTIPOLYGON (((-8.26941 43.42891, -8.26951 43...  \n",
       "4    %  MULTIPOLYGON (((-8.55475 43.31382, -8.55483 43...  "
      ]
     },
     "execution_count": 369,
     "metadata": {},
     "output_type": "execute_result"
    }
   ],
   "source": [
    "dataset = 'olive_grove_indicators'\n",
    "indicator = 'yield_change_per'\n",
    "path = '../../datasets/processed/MBTiles'\n",
    "folder_name = 'Proyecciones_rendimiento_olivar'\n",
    "geo_type = 'Municipios'\n",
    "\n",
    "# Read data\n",
    "gdf = read_indicators(dataset, indicator, gdf_vectors, geo_type)\n",
    "\n",
    "gdf = gdf[(gdf['scenario'] == 'rcp45') & (gdf['year'] == '2041–2070')]\n",
    "gdf.head()"
   ]
  },
  {
   "cell_type": "code",
   "execution_count": 29,
   "metadata": {},
   "outputs": [
    {
     "name": "stdout",
     "output_type": "stream",
     "text": [
      "Creating MBTiles\n",
      "Processing: tippecanoe -o ../../datasets/processed/MBTiles/Proyecciones_rendimiento/municipios.mbtiles -l Proyecciones_rendimiento -Z1 -z12 --drop-densest-as-needed --force ../../datasets/processed/MBTiles/Proyecciones_rendimiento/municipios.json\n"
     ]
    },
    {
     "name": "stderr",
     "output_type": "stream",
     "text": [
      "8115 features, 10691777 bytes of geometry, 49924 bytes of separate metadata, 203346 bytes of string pool\n",
      "  99.8%  12/1997/1590  \r"
     ]
    },
    {
     "name": "stdout",
     "output_type": "stream",
     "text": [
      "Task created\n",
      "Finished processing\n"
     ]
    },
    {
     "name": "stderr",
     "output_type": "stream",
     "text": [
      "  99.9%  12/2022/1598  \n"
     ]
    }
   ],
   "source": [
    "# Save GeoDataFrame as `GeoJSON`\n",
    "geo_name = geo_type.lower().replace(' ', '_')\n",
    "gdf.to_file(f\"{path}/{folder_name}/{geo_name}.json\", driver=\"GeoJSON\")\n",
    "\n",
    "# Create MBTiles\n",
    "print('Creating MBTiles')\n",
    "layer_name = folder_name\n",
    "source_path = f\"{path}/{folder_name}/{geo_name}.json\"\n",
    "mbtil_path = f\"{path}/{folder_name}/{geo_name}.mbtiles\"\n",
    "#create_mbtiles(source_path, mbtil_path, layer_name, opts=\"-zg --drop-densest-as-needed --extend-zooms-if-still-dropping --force --read-parallel\")\n",
    "create_mbtiles(source_path, mbtil_path, layer_name, opts=\"-Z1 -z12 --drop-densest-as-needed --force\")"
   ]
  },
  {
   "cell_type": "markdown",
   "metadata": {},
   "source": [
    "## Cambios en zonas óptimas para la producción de vino de calidad."
   ]
  },
  {
   "cell_type": "code",
   "execution_count": null,
   "metadata": {},
   "outputs": [],
   "source": [
    "dataset = 'vineyard_indicators'\n",
    "indicator = 'zonas_alto_potencial_climático'\n",
    "path = '../../datasets/processed/MBTiles'\n",
    "folder_name = 'Zonas_alto_potencial_climático_viñedo'\n",
    "geo_types = ['Rejilla']\n",
    "\n",
    "all_processing(dataset, indicator, gdf_vectors, path, folder_name, geo_types)"
   ]
  },
  {
   "cell_type": "markdown",
   "metadata": {},
   "source": [
    "**Upload files to GCS**"
   ]
  },
  {
   "cell_type": "code",
   "execution_count": null,
   "metadata": {},
   "outputs": [],
   "source": [
    "for geo_type in geo_types:\n",
    "    print(geo_type)\n",
    "    geo_name = geo_type.lower().replace(' ', '_')\n",
    "    # Upload files\n",
    "    \n",
    "    bucket_name = 'ecf-agricultural-climate-impact'\n",
    "    local_path = f\"{path}/{folder_name}/{geo_name}\"\n",
    "    destination_blob_path = f\"MBTiles/{folder_name}/\"\n",
    "    upload_local_directory_to_gcs(bucket_name, local_path, destination_blob_path)"
   ]
  },
  {
   "cell_type": "markdown",
   "metadata": {},
   "source": [
    "**Create `MBTile` for a single `scenario` and `year`**"
   ]
  },
  {
   "cell_type": "code",
   "execution_count": 522,
   "metadata": {},
   "outputs": [
    {
     "data": {
      "text/html": [
       "<div>\n",
       "<style scoped>\n",
       "    .dataframe tbody tr th:only-of-type {\n",
       "        vertical-align: middle;\n",
       "    }\n",
       "\n",
       "    .dataframe tbody tr th {\n",
       "        vertical-align: top;\n",
       "    }\n",
       "\n",
       "    .dataframe thead th {\n",
       "        text-align: right;\n",
       "    }\n",
       "</style>\n",
       "<table border=\"1\" class=\"dataframe\">\n",
       "  <thead>\n",
       "    <tr style=\"text-align: right;\">\n",
       "      <th></th>\n",
       "      <th>grid_id</th>\n",
       "      <th>dataset</th>\n",
       "      <th>indicator</th>\n",
       "      <th>scenario</th>\n",
       "      <th>value</th>\n",
       "      <th>year</th>\n",
       "      <th>unit</th>\n",
       "      <th>geometry</th>\n",
       "    </tr>\n",
       "  </thead>\n",
       "  <tbody>\n",
       "    <tr>\n",
       "      <th>1402</th>\n",
       "      <td>62</td>\n",
       "      <td>Cambio climático en el viñedo</td>\n",
       "      <td>zonas_alto_potencial_climático</td>\n",
       "      <td>rcp45</td>\n",
       "      <td>NaN</td>\n",
       "      <td>2021-2050</td>\n",
       "      <td>NaN</td>\n",
       "      <td>POLYGON ((-3.90000 37.10000, -3.70000 37.10000...</td>\n",
       "    </tr>\n",
       "    <tr>\n",
       "      <th>1403</th>\n",
       "      <td>63</td>\n",
       "      <td>Cambio climático en el viñedo</td>\n",
       "      <td>zonas_alto_potencial_climático</td>\n",
       "      <td>rcp45</td>\n",
       "      <td>NaN</td>\n",
       "      <td>2021-2050</td>\n",
       "      <td>NaN</td>\n",
       "      <td>POLYGON ((-3.70000 37.10000, -3.50000 37.10000...</td>\n",
       "    </tr>\n",
       "    <tr>\n",
       "      <th>1404</th>\n",
       "      <td>64</td>\n",
       "      <td>Cambio climático en el viñedo</td>\n",
       "      <td>zonas_alto_potencial_climático</td>\n",
       "      <td>rcp45</td>\n",
       "      <td>7.0</td>\n",
       "      <td>2021-2050</td>\n",
       "      <td>NaN</td>\n",
       "      <td>POLYGON ((-3.50000 37.10000, -3.30000 37.10000...</td>\n",
       "    </tr>\n",
       "    <tr>\n",
       "      <th>1405</th>\n",
       "      <td>65</td>\n",
       "      <td>Cambio climático en el viñedo</td>\n",
       "      <td>zonas_alto_potencial_climático</td>\n",
       "      <td>rcp45</td>\n",
       "      <td>7.0</td>\n",
       "      <td>2021-2050</td>\n",
       "      <td>NaN</td>\n",
       "      <td>POLYGON ((-3.30000 37.10000, -3.10000 37.10000...</td>\n",
       "    </tr>\n",
       "    <tr>\n",
       "      <th>1406</th>\n",
       "      <td>66</td>\n",
       "      <td>Cambio climático en el viñedo</td>\n",
       "      <td>zonas_alto_potencial_climático</td>\n",
       "      <td>rcp45</td>\n",
       "      <td>12.0</td>\n",
       "      <td>2021-2050</td>\n",
       "      <td>NaN</td>\n",
       "      <td>POLYGON ((-3.10000 37.10000, -2.90000 37.10000...</td>\n",
       "    </tr>\n",
       "  </tbody>\n",
       "</table>\n",
       "</div>"
      ],
      "text/plain": [
       "      grid_id                        dataset                       indicator  \\\n",
       "1402       62  Cambio climático en el viñedo  zonas_alto_potencial_climático   \n",
       "1403       63  Cambio climático en el viñedo  zonas_alto_potencial_climático   \n",
       "1404       64  Cambio climático en el viñedo  zonas_alto_potencial_climático   \n",
       "1405       65  Cambio climático en el viñedo  zonas_alto_potencial_climático   \n",
       "1406       66  Cambio climático en el viñedo  zonas_alto_potencial_climático   \n",
       "\n",
       "     scenario  value       year  unit  \\\n",
       "1402    rcp45    NaN  2021-2050   NaN   \n",
       "1403    rcp45    NaN  2021-2050   NaN   \n",
       "1404    rcp45    7.0  2021-2050   NaN   \n",
       "1405    rcp45    7.0  2021-2050   NaN   \n",
       "1406    rcp45   12.0  2021-2050   NaN   \n",
       "\n",
       "                                               geometry  \n",
       "1402  POLYGON ((-3.90000 37.10000, -3.70000 37.10000...  \n",
       "1403  POLYGON ((-3.70000 37.10000, -3.50000 37.10000...  \n",
       "1404  POLYGON ((-3.50000 37.10000, -3.30000 37.10000...  \n",
       "1405  POLYGON ((-3.30000 37.10000, -3.10000 37.10000...  \n",
       "1406  POLYGON ((-3.10000 37.10000, -2.90000 37.10000...  "
      ]
     },
     "execution_count": 522,
     "metadata": {},
     "output_type": "execute_result"
    }
   ],
   "source": [
    "dataset = 'vineyard_indicators'\n",
    "indicator = 'zonas_alto_potencial_climático'\n",
    "path = '../../datasets/processed/MBTiles'\n",
    "folder_name = 'Zonas_alto_potencial_climático_viñedo'\n",
    "geo_type = 'Rejilla'\n",
    "\n",
    "# Read data\n",
    "gdf = read_indicators(dataset, indicator, gdf_vectors, geo_type)\n",
    "\n",
    "gdf = gdf[(gdf['scenario'] == 'rcp45') & (gdf['year'] == '2021-2050')]\n",
    "gdf.head()"
   ]
  },
  {
   "cell_type": "code",
   "execution_count": 523,
   "metadata": {},
   "outputs": [
    {
     "name": "stdout",
     "output_type": "stream",
     "text": [
      "Creating MBTiles\n",
      "Processing: tippecanoe -o ../../datasets/processed/MBTiles/Zonas_alto_potencial_climático_viñedo/rejilla.mbtiles -l Zonas_alto_potencial_climático_viñedo -Z1 -z10 --drop-densest-as-needed --force ../../datasets/processed/MBTiles/Zonas_alto_potencial_climático_viñedo/rejilla.json\n"
     ]
    },
    {
     "name": "stderr",
     "output_type": "stream",
     "text": [
      "Warning: Can't represent non-numeric feature ID \"1402\"\n",
      "701 features, 44875 bytes of geometry, 32 bytes of separate metadata, 4012 bytes of string pool\n",
      "  86.6%  9/247/192  \r"
     ]
    },
    {
     "name": "stdout",
     "output_type": "stream",
     "text": [
      "Task created\n",
      "Finished processing\n"
     ]
    },
    {
     "name": "stderr",
     "output_type": "stream",
     "text": [
      "  99.9%  10/497/381  \n"
     ]
    }
   ],
   "source": [
    "# Save GeoDataFrame as `GeoJSON`\n",
    "geo_name = geo_type.lower().replace(' ', '_')\n",
    "with open(f\"{path}/{folder_name}/{geo_name}.json\", 'w') as outfile:\n",
    "    outfile.write(gdf.to_json())\n",
    "\n",
    "# Create MBTiles\n",
    "print('Creating MBTiles')\n",
    "layer_name = folder_name\n",
    "source_path = f\"{path}/{folder_name}/{geo_name}.json\"\n",
    "mbtil_path = f\"{path}/{folder_name}/{geo_name}.mbtiles\"\n",
    "#create_mbtiles(source_path, mbtil_path, layer_name, opts=\"-zg --drop-densest-as-needed --extend-zooms-if-still-dropping --force --read-parallel\")\n",
    "create_mbtiles(source_path, mbtil_path, layer_name, opts=\"-Z1 -z10 --drop-densest-as-needed --force\")"
   ]
  },
  {
   "cell_type": "markdown",
   "metadata": {},
   "source": [
    "##  Duración de las sequías y riesgo de incendios en zonas de dehesa."
   ]
  },
  {
   "cell_type": "code",
   "execution_count": null,
   "metadata": {},
   "outputs": [],
   "source": [
    "path = '../../datasets/processed/MBTiles'\n",
    "folder_name = 'Indicadores_dehesa'\n",
    "names = ['fire_danger', 'dry_spells']\n",
    "\n",
    "for name in names:\n",
    "    # Create MBTiles\n",
    "    print('Creating MBTiles')\n",
    "    source_path = f\"{path}/{folder_name}/dehesa_{name}.json\"\n",
    "    mbtil_path = f\"{path}/{folder_name}/dehesa_{name}.mbtiles\"\n",
    "    create_mbtiles(source_path, mbtil_path, folder_name, opts=\"-Z1 -z10 --force\")\n",
    "\n",
    "    # Convert from `MBTiles` to `pbf` in {z}/{x}/{y}.pbf format\n",
    "    print('Converting from MBTiles to pbf')\n",
    "    output_path = f\"{path}/{folder_name}/dehesa_{name}\"\n",
    "    mbtile_to_pbf(mbtil_path, output_path)\n",
    "\n",
    "    # Change folder permission\n",
    "    os.chmod(f\"{path}/{folder_name}/dehesa_{name}\", 0o777)\n",
    "\n",
    "    # Rename files from `.pbf` to `.vector.pbf.gz`\n",
    "    for root, dirs, files in os.walk(f\"{path}/{folder_name}/dehesa_{name}\"):\n",
    "        for file in files:\n",
    "            if file.endswith(\".pbf\"):\n",
    "                in_file = os.path.join(root,file)\n",
    "                os.rename(in_file, in_file.replace('.pbf', '.vector.pbf.gz'))\n",
    "\n",
    "    # gunzip folder\n",
    "    cmd = f\"gunzip -r {path}/{folder_name}/dehesa_{name}\"\n",
    "    print(f\"Processing: {cmd}\")\n",
    "    r = subprocess.call(cmd, shell=True)\n",
    "    if r == 0:\n",
    "        print(\"Task created\")\n",
    "    else:\n",
    "        print(\"Task failed\")\n",
    "    print(\"Finished processing\")\n",
    "\n",
    "    # Upload `pbf` files to GCS\n",
    "    print('Uploading pbf files to GCS')\n",
    "    load_dotenv()\n",
    "\n",
    "    bucket_name = 'ecf-agricultural-climate-impact'\n",
    "    local_path = f\"{path}/{folder_name}/dehesa_{name}\"\n",
    "    destination_blob_path = f\"MBTiles/{folder_name}/\"\n",
    "\n",
    "    upload_local_directory_to_gcs(bucket_name, local_path, destination_blob_path)"
   ]
  },
  {
   "cell_type": "markdown",
   "metadata": {},
   "source": [
    "**Upload files to GCS**"
   ]
  },
  {
   "cell_type": "code",
   "execution_count": null,
   "metadata": {},
   "outputs": [],
   "source": [
    "path = '../../datasets/processed/MBTiles'\n",
    "folder_name = 'Indicadores_dehesa'\n",
    "names = ['fire_danger', 'dry_spells']\n",
    "\n",
    "for name in names:\n",
    "    # Upload `pbf` files to GCS\n",
    "    print('Uploading pbf files to GCS')\n",
    "    load_dotenv()\n",
    "\n",
    "    bucket_name = 'ecf-agricultural-climate-impact'\n",
    "    local_path = f\"{path}/{folder_name}/dehesa_{name}\"\n",
    "    destination_blob_path = f\"MBTiles/{folder_name}/\"\n",
    "\n",
    "    upload_local_directory_to_gcs(bucket_name, local_path, destination_blob_path)"
   ]
  },
  {
   "cell_type": "markdown",
   "metadata": {},
   "source": [
    "#### **Create `MBTiles` and upload to GCS in {z}/{x}/{y}.pbf format**"
   ]
  },
  {
   "cell_type": "code",
   "execution_count": null,
   "metadata": {},
   "outputs": [],
   "source": [
    "path = '../../datasets/processed/MBTiles'\n",
    "folder_name = 'Indicadores_dehesa'\n",
    "name = 'Mapa_cultivos'\n",
    "\n",
    "vector_tile_processing(path, name, folder_name, gdf, pbf_format=True, upload_to_GCS=True)"
   ]
  },
  {
   "cell_type": "markdown",
   "metadata": {},
   "source": [
    "## Proyecciones de rendimiento de cereales.\n",
    "**Create all tiles**"
   ]
  },
  {
   "cell_type": "code",
   "execution_count": null,
   "metadata": {},
   "outputs": [],
   "source": [
    "dataset = 'cereal_indicators'\n",
    "indicator = 'yield_change_per'\n",
    "path = '../../datasets/processed/MBTiles'\n",
    "folder_name = 'Proyecciones_rendimiento_cereal'\n",
    "geo_type = 'Comunidades autonomas'\n",
    "\n",
    "# Read data\n",
    "gdf = read_indicators(dataset, indicator, gdf_vectors, geo_type, filter_type = 'cereal')\n",
    "\n",
    "# Reorganice data\n",
    "gdf = reorganize_data_new(gdf, geo_type, filter_type = 'cereal') \n",
    "\n",
    "# Create `MBTiles` and upload to GCS in {z}/{x}/{y}.pbf format\n",
    "vector_tile_processing(path, dataset, folder_name, gdf, geo_type, pbf_format=True, upload_to_GCS=True)"
   ]
  }
 ],
 "metadata": {
  "kernelspec": {
   "display_name": "Python 3 (ipykernel)",
   "language": "python",
   "name": "python3"
  },
  "language_info": {
   "codemirror_mode": {
    "name": "ipython",
    "version": 3
   },
   "file_extension": ".py",
   "mimetype": "text/x-python",
   "name": "python",
   "nbconvert_exporter": "python",
   "pygments_lexer": "ipython3",
   "version": "3.8.12"
  },
  "orig_nbformat": 4
 },
 "nbformat": 4,
 "nbformat_minor": 2
}
