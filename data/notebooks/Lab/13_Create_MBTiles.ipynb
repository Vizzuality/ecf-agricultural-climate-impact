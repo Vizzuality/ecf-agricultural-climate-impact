{
 "cells": [
  {
   "cell_type": "markdown",
   "metadata": {},
   "source": [
    "# Create `MBTiles`\n",
    "In this notebook we will transforms vector type data into MBTiles using tippecanoe.\n",
    "\n",
    "# Setup\n",
    "## Library import\n",
    "We import all the required Python libraries"
   ]
  },
  {
   "cell_type": "code",
   "execution_count": 298,
   "metadata": {},
   "outputs": [],
   "source": [
    "import os\n",
    "import numpy as np\n",
    "import pandas as pd\n",
    "import geopandas as gpd\n",
    "import subprocess\n",
    "from dotenv import load_dotenv\n",
    "import glob\n",
    "from google.cloud import storage\n",
    "from google.oauth2 import service_account\n",
    "import ipyleaflet as ipyl"
   ]
  },
  {
   "cell_type": "markdown",
   "metadata": {},
   "source": [
    "## Utils\n",
    "**read_climate_indicators_municipios**"
   ]
  },
  {
   "cell_type": "code",
   "execution_count": 333,
   "metadata": {},
   "outputs": [],
   "source": [
    "def read_climate_indicators_municipios(indicator, municipios):\n",
    "    df = pd.read_csv('../../datasets/processed/climate_indicators_municipios.csv')\n",
    "    df = df.astype({'CODIGOINE':int})\n",
    "    gdf = df[(df['indicator'] == indicator)]\n",
    "    gdf = gpd.GeoDataFrame(pd.merge(gdf, municipios[['CODIGOINE', 'geometry']].astype({'CODIGOINE':int}), how='left', on='CODIGOINE'))\n",
    "    return gdf"
   ]
  },
  {
   "cell_type": "markdown",
   "metadata": {},
   "source": [
    "**reorganice_data_municipios**"
   ]
  },
  {
   "cell_type": "code",
   "execution_count": 335,
   "metadata": {},
   "outputs": [],
   "source": [
    "def reorganice_data_municipios(gdf):\n",
    "    gdf_new = gpd.GeoDataFrame(columns=['CODIGOINE', 'dataset', 'indicator', 'unit', 'values', 'geometry'])\n",
    "    for code_id in gdf['CODIGOINE'].unique():\n",
    "        LD = gdf[gdf['CODIGOINE'] == code_id][['scenario', 'year', 'value']].to_dict('records')\n",
    "        v = {k: {dic['year']: dic['value'] for dic in LD if dic['scenario'] == k} for k in ['rcp45', 'rcp85']}\n",
    "\n",
    "        gdf_tmp = gpd.GeoDataFrame({'CODIGOINE': [code_id], 'dataset': [gdf['dataset'].iloc[0]], 'indicator': [gdf['indicator'].iloc[0]], \\\n",
    "            'unit': [gdf['unit'].iloc[0]], 'values': [v], 'geometry': [gdf[gdf['CODIGOINE'] == code_id]['geometry'].iloc[0]]})\n",
    "\n",
    "        gdf_new = pd.concat([gdf_new, gdf_tmp])\n",
    "\n",
    "    return gdf_new"
   ]
  },
  {
   "cell_type": "markdown",
   "metadata": {},
   "source": [
    "**create_mbtiles**"
   ]
  },
  {
   "cell_type": "code",
   "execution_count": 229,
   "metadata": {},
   "outputs": [],
   "source": [
    "def create_mbtiles(source_path, dest_path, layer_name, opts=\"-zg --drop-densest-as-needed --extend-zooms-if-still-dropping --force --read-parallel\"):\n",
    "    \"\"\"\n",
    "    Use tippecanoe to create a MBTILE at dest_path from source_path.\n",
    "    layer_name is used for the name of the layer in the MBTILE.\n",
    "    Regex file path (/*.geojson) is supported for source_path.\n",
    "    \"\"\"\n",
    "    cmd = f\"tippecanoe -o {dest_path} -l {layer_name} {opts} {source_path}\"\n",
    "    print(f\"Processing: {cmd}\")\n",
    "    r = subprocess.call(cmd, shell=True)\n",
    "    if r == 0:\n",
    "        print(\"Task created\")\n",
    "    else:\n",
    "        print(\"Task failed\")\n",
    "    print(\"Finished processing\")"
   ]
  },
  {
   "cell_type": "markdown",
   "metadata": {},
   "source": [
    "**mbtile_to_pbf**"
   ]
  },
  {
   "cell_type": "code",
   "execution_count": 230,
   "metadata": {},
   "outputs": [],
   "source": [
    "def mbtile_to_pbf(input_mbtiles, output_path):\n",
    "    \"\"\"\n",
    "    Use mb-util to convert mbtiles to to pbf in z/x/y.pbf form.\n",
    "    To export MBTiles to disk, specify a directory that does not yet exist.\n",
    "    \"\"\"\n",
    "    cmd = f\"mb-util {input_mbtiles} {output_path} --image_format=pbf\"\n",
    "    print(f\"Processing: {cmd}\")\n",
    "    r = subprocess.call(cmd, shell=True)\n",
    "    if r == 0:\n",
    "        print(\"Task created\")\n",
    "    else:\n",
    "        print(\"Task failed\")\n",
    "    print(\"Finished processing\")"
   ]
  },
  {
   "cell_type": "markdown",
   "metadata": {},
   "source": [
    "**upload_local_directory_to_gcs**"
   ]
  },
  {
   "cell_type": "code",
   "execution_count": 231,
   "metadata": {},
   "outputs": [],
   "source": [
    "def upload_local_directory_to_gcs(bucket_name, local_path, destination_blob_path):\n",
    "    \"\"\"Uploads a directory to the bucket.\"\"\"\n",
    "    \n",
    "    credentials_dict = {\n",
    "          \"type\": \"service_account\",\n",
    "          \"project_id\": os.getenv(\"PROJECT_ID\"),\n",
    "         \"private_key_id\": os.getenv(\"PRIVATE_KEY_ID\"),\n",
    "          \"private_key\":os.getenv(\"PRIVATE_KEY\"),\n",
    "         \"client_email\": os.getenv(\"CLIENT_EMAIL\"),\n",
    "          \"token_uri\":os.getenv(\"TOKEN_URI\"),   \n",
    "    } \n",
    "    \n",
    "\n",
    "    credentials = service_account.Credentials.from_service_account_info(credentials_dict)\n",
    "    storage_client = storage.Client(project='project_id', credentials=credentials)\n",
    "    \n",
    "    bucket = storage_client.bucket(bucket_name)\n",
    "    rel_paths = glob.glob(local_path + '/**', recursive=True)\n",
    "\n",
    "    for local_file in rel_paths:\n",
    "        remote_path = f'{destination_blob_path}{\"/\".join(local_file.split(os.sep)[len(local_path.split(os.sep))-1:])}'\n",
    "        if os.path.isfile(local_file):\n",
    "            blob = bucket.blob(remote_path)\n",
    "            print(\n",
    "                \"File {} uploaded to {}.\".format(\n",
    "                    local_file, remote_path\n",
    "                )\n",
    "            )\n",
    "            blob.upload_from_filename(local_file)"
   ]
  },
  {
   "cell_type": "markdown",
   "metadata": {},
   "source": [
    "**vector_tile_processing**"
   ]
  },
  {
   "cell_type": "code",
   "execution_count": 345,
   "metadata": {},
   "outputs": [],
   "source": [
    "def vector_tile_processing(path, name, gdf, pbf_format=True, upload_to_GCS=True):\n",
    "    # Save GeoDataFrame as `GeoJSON`\n",
    "    gdf.to_file(f\"{path}/{name}.json\", driver=\"GeoJSON\")\n",
    "\n",
    "    # Create MBTiles\n",
    "    layer_name = name\n",
    "    source_path = f\"{path}/{name}.json\"\n",
    "    mbtil_path = f\"{path}/{name}.mbtiles\"\n",
    "    create_mbtiles(source_path, mbtil_path, layer_name, opts=\"-zg --drop-densest-as-needed --extend-zooms-if-still-dropping --force --read-parallel\")\n",
    "\n",
    "    # Convert from `MBTiles` to `pbf` in {z}/{x}/{y}.pbf format\n",
    "    if pbf_format:\n",
    "        output_path = f\"{path}/{name}\"\n",
    "        mbtile_to_pbf(mbtil_path, output_path)\n",
    "\n",
    "    # Upload `pbf` files to GCS\n",
    "    if upload_to_GCS:\n",
    "        load_dotenv()\n",
    "\n",
    "        bucket_name = 'ecf-agricultural-climate-impact'\n",
    "        local_path = f\"{path}/{name}\"\n",
    "        destination_blob_path = f\"MBTiles/\"\n",
    "\n",
    "        upload_local_directory_to_gcs(bucket_name, local_path, destination_blob_path)"
   ]
  },
  {
   "cell_type": "markdown",
   "metadata": {},
   "source": [
    "# Data import\n",
    "## Provincias"
   ]
  },
  {
   "cell_type": "code",
   "execution_count": 325,
   "metadata": {},
   "outputs": [],
   "source": [
    "provincias = gpd.read_file(f'../../datasets/raw/georegions/Provincias/Provincias.shp')\n",
    "provincias.sort_values(['CO_CCAA', 'CO_PROVINC'], inplace = True)"
   ]
  },
  {
   "cell_type": "markdown",
   "metadata": {},
   "source": [
    "## Comarcas Agrarias"
   ]
  },
  {
   "cell_type": "code",
   "execution_count": 326,
   "metadata": {},
   "outputs": [],
   "source": [
    "comarcas_agr = gpd.read_file(f'../../datasets/raw/georegions/ComarcasAgrarias/ComarcasAgrarias.shp')\n",
    "comarcas_agr.sort_values(['CO_CCAA', 'CO_PROVINC', 'CO_COMARCA'], inplace = True)\n",
    "\n",
    "# Remove Canarias, Ceuta, and Melilla\n",
    "comarcas_agr = comarcas_agr[~comarcas_agr['DS_CCAA'].isin(['Canarias', 'Ceuta', 'Melilla'])]\n",
    "comarcas_agr = comarcas_agr.reset_index(drop=True)"
   ]
  },
  {
   "cell_type": "markdown",
   "metadata": {},
   "source": [
    "## Municipios de España"
   ]
  },
  {
   "cell_type": "code",
   "execution_count": 324,
   "metadata": {},
   "outputs": [],
   "source": [
    "municipios = gpd.read_file(f'../../datasets/raw/georegions/Municipios/Municipios_IGN.shp')\n",
    "municipios.sort_values(['CODNUT1', 'CODNUT2', 'CODNUT3', 'CODIGOINE'], inplace = True)\n",
    "\n",
    "# Remove Canarias, Ceuta, and Melilla\n",
    "municipios = municipios[~municipios['CODNUT2'].isin(['ES70', 'ES63', 'ES64'])]\n",
    "municipios = municipios.reset_index(drop=True)"
   ]
  },
  {
   "cell_type": "markdown",
   "metadata": {},
   "source": [
    "# Create tiles\n",
    "\n",
    "## Aumento de temperaturas proyectadas por municipio\n",
    "**Read data**"
   ]
  },
  {
   "cell_type": "code",
   "execution_count": 334,
   "metadata": {},
   "outputs": [
    {
     "data": {
      "text/html": [
       "<div>\n",
       "<style scoped>\n",
       "    .dataframe tbody tr th:only-of-type {\n",
       "        vertical-align: middle;\n",
       "    }\n",
       "\n",
       "    .dataframe tbody tr th {\n",
       "        vertical-align: top;\n",
       "    }\n",
       "\n",
       "    .dataframe thead th {\n",
       "        text-align: right;\n",
       "    }\n",
       "</style>\n",
       "<table border=\"1\" class=\"dataframe\">\n",
       "  <thead>\n",
       "    <tr style=\"text-align: right;\">\n",
       "      <th></th>\n",
       "      <th>CODIGOINE</th>\n",
       "      <th>dataset</th>\n",
       "      <th>indicator</th>\n",
       "      <th>scenario</th>\n",
       "      <th>value</th>\n",
       "      <th>year</th>\n",
       "      <th>unit</th>\n",
       "      <th>geometry</th>\n",
       "    </tr>\n",
       "  </thead>\n",
       "  <tbody>\n",
       "    <tr>\n",
       "      <th>0</th>\n",
       "      <td>15001</td>\n",
       "      <td>Temperature statistics and heat waves</td>\n",
       "      <td>mean_Tmean_Yearly_change</td>\n",
       "      <td>rcp45</td>\n",
       "      <td>0.000000</td>\n",
       "      <td>1971 - 2001</td>\n",
       "      <td>ºC</td>\n",
       "      <td>POLYGON ((-8.35892 43.14721, -8.35864 43.14764...</td>\n",
       "    </tr>\n",
       "    <tr>\n",
       "      <th>1</th>\n",
       "      <td>15001</td>\n",
       "      <td>Temperature statistics and heat waves</td>\n",
       "      <td>mean_Tmean_Yearly_change</td>\n",
       "      <td>rcp45</td>\n",
       "      <td>0.242102</td>\n",
       "      <td>1985 - 2015</td>\n",
       "      <td>ºC</td>\n",
       "      <td>POLYGON ((-8.35892 43.14721, -8.35864 43.14764...</td>\n",
       "    </tr>\n",
       "    <tr>\n",
       "      <th>2</th>\n",
       "      <td>15001</td>\n",
       "      <td>Temperature statistics and heat waves</td>\n",
       "      <td>mean_Tmean_Yearly_change</td>\n",
       "      <td>rcp45</td>\n",
       "      <td>0.457782</td>\n",
       "      <td>1995 - 2025</td>\n",
       "      <td>ºC</td>\n",
       "      <td>POLYGON ((-8.35892 43.14721, -8.35864 43.14764...</td>\n",
       "    </tr>\n",
       "    <tr>\n",
       "      <th>3</th>\n",
       "      <td>15001</td>\n",
       "      <td>Temperature statistics and heat waves</td>\n",
       "      <td>mean_Tmean_Yearly_change</td>\n",
       "      <td>rcp45</td>\n",
       "      <td>0.624850</td>\n",
       "      <td>2005 - 2035</td>\n",
       "      <td>ºC</td>\n",
       "      <td>POLYGON ((-8.35892 43.14721, -8.35864 43.14764...</td>\n",
       "    </tr>\n",
       "    <tr>\n",
       "      <th>4</th>\n",
       "      <td>15001</td>\n",
       "      <td>Temperature statistics and heat waves</td>\n",
       "      <td>mean_Tmean_Yearly_change</td>\n",
       "      <td>rcp45</td>\n",
       "      <td>0.866817</td>\n",
       "      <td>2015 - 2045</td>\n",
       "      <td>ºC</td>\n",
       "      <td>POLYGON ((-8.35892 43.14721, -8.35864 43.14764...</td>\n",
       "    </tr>\n",
       "  </tbody>\n",
       "</table>\n",
       "</div>"
      ],
      "text/plain": [
       "   CODIGOINE                                dataset                 indicator  \\\n",
       "0      15001  Temperature statistics and heat waves  mean_Tmean_Yearly_change   \n",
       "1      15001  Temperature statistics and heat waves  mean_Tmean_Yearly_change   \n",
       "2      15001  Temperature statistics and heat waves  mean_Tmean_Yearly_change   \n",
       "3      15001  Temperature statistics and heat waves  mean_Tmean_Yearly_change   \n",
       "4      15001  Temperature statistics and heat waves  mean_Tmean_Yearly_change   \n",
       "\n",
       "  scenario     value         year unit  \\\n",
       "0    rcp45  0.000000  1971 - 2001   ºC   \n",
       "1    rcp45  0.242102  1985 - 2015   ºC   \n",
       "2    rcp45  0.457782  1995 - 2025   ºC   \n",
       "3    rcp45  0.624850  2005 - 2035   ºC   \n",
       "4    rcp45  0.866817  2015 - 2045   ºC   \n",
       "\n",
       "                                            geometry  \n",
       "0  POLYGON ((-8.35892 43.14721, -8.35864 43.14764...  \n",
       "1  POLYGON ((-8.35892 43.14721, -8.35864 43.14764...  \n",
       "2  POLYGON ((-8.35892 43.14721, -8.35864 43.14764...  \n",
       "3  POLYGON ((-8.35892 43.14721, -8.35864 43.14764...  \n",
       "4  POLYGON ((-8.35892 43.14721, -8.35864 43.14764...  "
      ]
     },
     "execution_count": 334,
     "metadata": {},
     "output_type": "execute_result"
    }
   ],
   "source": [
    "gdf = read_climate_indicators_municipios('mean_Tmean_Yearly_change',  municipios)\n",
    "gdf.head()"
   ]
  },
  {
   "cell_type": "markdown",
   "metadata": {},
   "source": [
    "**Reorganice data**"
   ]
  },
  {
   "cell_type": "code",
   "execution_count": 336,
   "metadata": {},
   "outputs": [
    {
     "data": {
      "text/html": [
       "<div>\n",
       "<style scoped>\n",
       "    .dataframe tbody tr th:only-of-type {\n",
       "        vertical-align: middle;\n",
       "    }\n",
       "\n",
       "    .dataframe tbody tr th {\n",
       "        vertical-align: top;\n",
       "    }\n",
       "\n",
       "    .dataframe thead th {\n",
       "        text-align: right;\n",
       "    }\n",
       "</style>\n",
       "<table border=\"1\" class=\"dataframe\">\n",
       "  <thead>\n",
       "    <tr style=\"text-align: right;\">\n",
       "      <th></th>\n",
       "      <th>CODIGOINE</th>\n",
       "      <th>dataset</th>\n",
       "      <th>indicator</th>\n",
       "      <th>unit</th>\n",
       "      <th>values</th>\n",
       "      <th>geometry</th>\n",
       "    </tr>\n",
       "  </thead>\n",
       "  <tbody>\n",
       "    <tr>\n",
       "      <th>0</th>\n",
       "      <td>15001</td>\n",
       "      <td>Temperature statistics and heat waves</td>\n",
       "      <td>mean_Tmean_Yearly_change</td>\n",
       "      <td>ºC</td>\n",
       "      <td>{'rcp45': {'1971 - 2001': 0.0, '1985 - 2015': ...</td>\n",
       "      <td>POLYGON ((-8.35892 43.14721, -8.35864 43.14764...</td>\n",
       "    </tr>\n",
       "    <tr>\n",
       "      <th>0</th>\n",
       "      <td>15002</td>\n",
       "      <td>Temperature statistics and heat waves</td>\n",
       "      <td>mean_Tmean_Yearly_change</td>\n",
       "      <td>ºC</td>\n",
       "      <td>{'rcp45': {'1971 - 2001': 0.0, '1985 - 2015': ...</td>\n",
       "      <td>POLYGON ((-8.72471 42.88868, -8.72403 42.88872...</td>\n",
       "    </tr>\n",
       "    <tr>\n",
       "      <th>0</th>\n",
       "      <td>15003</td>\n",
       "      <td>Temperature statistics and heat waves</td>\n",
       "      <td>mean_Tmean_Yearly_change</td>\n",
       "      <td>ºC</td>\n",
       "      <td>{'rcp45': {'1971 - 2001': 0.0, '1985 - 2015': ...</td>\n",
       "      <td>POLYGON ((-8.11605 43.21256, -8.11120 43.21299...</td>\n",
       "    </tr>\n",
       "    <tr>\n",
       "      <th>0</th>\n",
       "      <td>15004</td>\n",
       "      <td>Temperature statistics and heat waves</td>\n",
       "      <td>mean_Tmean_Yearly_change</td>\n",
       "      <td>ºC</td>\n",
       "      <td>{'rcp45': {'1971 - 2001': 0.0, '1985 - 2015': ...</td>\n",
       "      <td>MULTIPOLYGON (((-8.26941 43.42891, -8.26951 43...</td>\n",
       "    </tr>\n",
       "    <tr>\n",
       "      <th>0</th>\n",
       "      <td>15005</td>\n",
       "      <td>Temperature statistics and heat waves</td>\n",
       "      <td>mean_Tmean_Yearly_change</td>\n",
       "      <td>ºC</td>\n",
       "      <td>{'rcp45': {'1971 - 2001': 0.0, '1985 - 2015': ...</td>\n",
       "      <td>MULTIPOLYGON (((-8.55475 43.31382, -8.55483 43...</td>\n",
       "    </tr>\n",
       "  </tbody>\n",
       "</table>\n",
       "</div>"
      ],
      "text/plain": [
       "  CODIGOINE                                dataset                 indicator  \\\n",
       "0     15001  Temperature statistics and heat waves  mean_Tmean_Yearly_change   \n",
       "0     15002  Temperature statistics and heat waves  mean_Tmean_Yearly_change   \n",
       "0     15003  Temperature statistics and heat waves  mean_Tmean_Yearly_change   \n",
       "0     15004  Temperature statistics and heat waves  mean_Tmean_Yearly_change   \n",
       "0     15005  Temperature statistics and heat waves  mean_Tmean_Yearly_change   \n",
       "\n",
       "  unit                                             values  \\\n",
       "0   ºC  {'rcp45': {'1971 - 2001': 0.0, '1985 - 2015': ...   \n",
       "0   ºC  {'rcp45': {'1971 - 2001': 0.0, '1985 - 2015': ...   \n",
       "0   ºC  {'rcp45': {'1971 - 2001': 0.0, '1985 - 2015': ...   \n",
       "0   ºC  {'rcp45': {'1971 - 2001': 0.0, '1985 - 2015': ...   \n",
       "0   ºC  {'rcp45': {'1971 - 2001': 0.0, '1985 - 2015': ...   \n",
       "\n",
       "                                            geometry  \n",
       "0  POLYGON ((-8.35892 43.14721, -8.35864 43.14764...  \n",
       "0  POLYGON ((-8.72471 42.88868, -8.72403 42.88872...  \n",
       "0  POLYGON ((-8.11605 43.21256, -8.11120 43.21299...  \n",
       "0  MULTIPOLYGON (((-8.26941 43.42891, -8.26951 43...  \n",
       "0  MULTIPOLYGON (((-8.55475 43.31382, -8.55483 43...  "
      ]
     },
     "execution_count": 336,
     "metadata": {},
     "output_type": "execute_result"
    }
   ],
   "source": [
    "gdf = reorganice_data_municipios(gdf)\n",
    "gdf.head()"
   ]
  },
  {
   "cell_type": "markdown",
   "metadata": {},
   "source": [
    "#### **Create `MBTiles` and upload to GCS in {z}/{x}/{y}.pbf format**"
   ]
  },
  {
   "cell_type": "code",
   "execution_count": null,
   "metadata": {},
   "outputs": [],
   "source": [
    "path = '../../datasets/processed/MBTiles'\n",
    "name = 'Aumento_temperaturas_municipio'\n",
    "\n",
    "vector_tile_processing(path, name, gdf, pbf_format=True, upload_to_GCS=True)"
   ]
  },
  {
   "cell_type": "markdown",
   "metadata": {},
   "source": [
    "## Duración de las sequías\n",
    "**Read data**"
   ]
  },
  {
   "cell_type": "code",
   "execution_count": 339,
   "metadata": {},
   "outputs": [
    {
     "data": {
      "text/html": [
       "<div>\n",
       "<style scoped>\n",
       "    .dataframe tbody tr th:only-of-type {\n",
       "        vertical-align: middle;\n",
       "    }\n",
       "\n",
       "    .dataframe tbody tr th {\n",
       "        vertical-align: top;\n",
       "    }\n",
       "\n",
       "    .dataframe thead th {\n",
       "        text-align: right;\n",
       "    }\n",
       "</style>\n",
       "<table border=\"1\" class=\"dataframe\">\n",
       "  <thead>\n",
       "    <tr style=\"text-align: right;\">\n",
       "      <th></th>\n",
       "      <th>CODIGOINE</th>\n",
       "      <th>dataset</th>\n",
       "      <th>indicator</th>\n",
       "      <th>scenario</th>\n",
       "      <th>value</th>\n",
       "      <th>year</th>\n",
       "      <th>unit</th>\n",
       "      <th>geometry</th>\n",
       "    </tr>\n",
       "  </thead>\n",
       "  <tbody>\n",
       "    <tr>\n",
       "      <th>0</th>\n",
       "      <td>15001</td>\n",
       "      <td>Bioclimatic indicators</td>\n",
       "      <td>dry-spells_maximum-length</td>\n",
       "      <td>rcp45</td>\n",
       "      <td>29.847763</td>\n",
       "      <td>1971 - 1990</td>\n",
       "      <td>days</td>\n",
       "      <td>POLYGON ((-8.35892 43.14721, -8.35864 43.14764...</td>\n",
       "    </tr>\n",
       "    <tr>\n",
       "      <th>1</th>\n",
       "      <td>15001</td>\n",
       "      <td>Bioclimatic indicators</td>\n",
       "      <td>dry-spells_maximum-length</td>\n",
       "      <td>rcp45</td>\n",
       "      <td>25.484840</td>\n",
       "      <td>1981 - 2000</td>\n",
       "      <td>days</td>\n",
       "      <td>POLYGON ((-8.35892 43.14721, -8.35864 43.14764...</td>\n",
       "    </tr>\n",
       "    <tr>\n",
       "      <th>2</th>\n",
       "      <td>15001</td>\n",
       "      <td>Bioclimatic indicators</td>\n",
       "      <td>dry-spells_maximum-length</td>\n",
       "      <td>rcp45</td>\n",
       "      <td>32.599663</td>\n",
       "      <td>2001 - 2020</td>\n",
       "      <td>days</td>\n",
       "      <td>POLYGON ((-8.35892 43.14721, -8.35864 43.14764...</td>\n",
       "    </tr>\n",
       "    <tr>\n",
       "      <th>3</th>\n",
       "      <td>15001</td>\n",
       "      <td>Bioclimatic indicators</td>\n",
       "      <td>dry-spells_maximum-length</td>\n",
       "      <td>rcp45</td>\n",
       "      <td>35.722324</td>\n",
       "      <td>2021 - 2040</td>\n",
       "      <td>days</td>\n",
       "      <td>POLYGON ((-8.35892 43.14721, -8.35864 43.14764...</td>\n",
       "    </tr>\n",
       "    <tr>\n",
       "      <th>4</th>\n",
       "      <td>15001</td>\n",
       "      <td>Bioclimatic indicators</td>\n",
       "      <td>dry-spells_maximum-length</td>\n",
       "      <td>rcp45</td>\n",
       "      <td>35.331772</td>\n",
       "      <td>2041 - 2060</td>\n",
       "      <td>days</td>\n",
       "      <td>POLYGON ((-8.35892 43.14721, -8.35864 43.14764...</td>\n",
       "    </tr>\n",
       "  </tbody>\n",
       "</table>\n",
       "</div>"
      ],
      "text/plain": [
       "   CODIGOINE                 dataset                  indicator scenario  \\\n",
       "0      15001  Bioclimatic indicators  dry-spells_maximum-length    rcp45   \n",
       "1      15001  Bioclimatic indicators  dry-spells_maximum-length    rcp45   \n",
       "2      15001  Bioclimatic indicators  dry-spells_maximum-length    rcp45   \n",
       "3      15001  Bioclimatic indicators  dry-spells_maximum-length    rcp45   \n",
       "4      15001  Bioclimatic indicators  dry-spells_maximum-length    rcp45   \n",
       "\n",
       "       value         year  unit  \\\n",
       "0  29.847763  1971 - 1990  days   \n",
       "1  25.484840  1981 - 2000  days   \n",
       "2  32.599663  2001 - 2020  days   \n",
       "3  35.722324  2021 - 2040  days   \n",
       "4  35.331772  2041 - 2060  days   \n",
       "\n",
       "                                            geometry  \n",
       "0  POLYGON ((-8.35892 43.14721, -8.35864 43.14764...  \n",
       "1  POLYGON ((-8.35892 43.14721, -8.35864 43.14764...  \n",
       "2  POLYGON ((-8.35892 43.14721, -8.35864 43.14764...  \n",
       "3  POLYGON ((-8.35892 43.14721, -8.35864 43.14764...  \n",
       "4  POLYGON ((-8.35892 43.14721, -8.35864 43.14764...  "
      ]
     },
     "execution_count": 339,
     "metadata": {},
     "output_type": "execute_result"
    }
   ],
   "source": [
    "gdf = read_climate_indicators_municipios('dry-spells_maximum-length',  municipios)\n",
    "gdf.head()"
   ]
  },
  {
   "cell_type": "markdown",
   "metadata": {},
   "source": [
    "**Reorganice data**"
   ]
  },
  {
   "cell_type": "code",
   "execution_count": 340,
   "metadata": {},
   "outputs": [
    {
     "data": {
      "text/html": [
       "<div>\n",
       "<style scoped>\n",
       "    .dataframe tbody tr th:only-of-type {\n",
       "        vertical-align: middle;\n",
       "    }\n",
       "\n",
       "    .dataframe tbody tr th {\n",
       "        vertical-align: top;\n",
       "    }\n",
       "\n",
       "    .dataframe thead th {\n",
       "        text-align: right;\n",
       "    }\n",
       "</style>\n",
       "<table border=\"1\" class=\"dataframe\">\n",
       "  <thead>\n",
       "    <tr style=\"text-align: right;\">\n",
       "      <th></th>\n",
       "      <th>CODIGOINE</th>\n",
       "      <th>dataset</th>\n",
       "      <th>indicator</th>\n",
       "      <th>unit</th>\n",
       "      <th>values</th>\n",
       "      <th>geometry</th>\n",
       "    </tr>\n",
       "  </thead>\n",
       "  <tbody>\n",
       "    <tr>\n",
       "      <th>0</th>\n",
       "      <td>15001</td>\n",
       "      <td>Bioclimatic indicators</td>\n",
       "      <td>dry-spells_maximum-length</td>\n",
       "      <td>days</td>\n",
       "      <td>{'rcp45': {'1971 - 1990': 29.84776306152344, '...</td>\n",
       "      <td>POLYGON ((-8.35892 43.14721, -8.35864 43.14764...</td>\n",
       "    </tr>\n",
       "    <tr>\n",
       "      <th>0</th>\n",
       "      <td>15002</td>\n",
       "      <td>Bioclimatic indicators</td>\n",
       "      <td>dry-spells_maximum-length</td>\n",
       "      <td>days</td>\n",
       "      <td>{'rcp45': {'1971 - 1990': 31.08477783203125, '...</td>\n",
       "      <td>POLYGON ((-8.72471 42.88868, -8.72403 42.88872...</td>\n",
       "    </tr>\n",
       "    <tr>\n",
       "      <th>0</th>\n",
       "      <td>15003</td>\n",
       "      <td>Bioclimatic indicators</td>\n",
       "      <td>dry-spells_maximum-length</td>\n",
       "      <td>days</td>\n",
       "      <td>{'rcp45': {'1971 - 1990': 28.219572067260746, ...</td>\n",
       "      <td>POLYGON ((-8.11605 43.21256, -8.11120 43.21299...</td>\n",
       "    </tr>\n",
       "    <tr>\n",
       "      <th>0</th>\n",
       "      <td>15004</td>\n",
       "      <td>Bioclimatic indicators</td>\n",
       "      <td>dry-spells_maximum-length</td>\n",
       "      <td>days</td>\n",
       "      <td>{'rcp45': {'1971 - 1990': 28.741310119628903, ...</td>\n",
       "      <td>MULTIPOLYGON (((-8.26941 43.42891, -8.26951 43...</td>\n",
       "    </tr>\n",
       "    <tr>\n",
       "      <th>0</th>\n",
       "      <td>15005</td>\n",
       "      <td>Bioclimatic indicators</td>\n",
       "      <td>dry-spells_maximum-length</td>\n",
       "      <td>days</td>\n",
       "      <td>{'rcp45': {'1971 - 1990': 28.92191505432129, '...</td>\n",
       "      <td>MULTIPOLYGON (((-8.55475 43.31382, -8.55483 43...</td>\n",
       "    </tr>\n",
       "  </tbody>\n",
       "</table>\n",
       "</div>"
      ],
      "text/plain": [
       "  CODIGOINE                 dataset                  indicator  unit  \\\n",
       "0     15001  Bioclimatic indicators  dry-spells_maximum-length  days   \n",
       "0     15002  Bioclimatic indicators  dry-spells_maximum-length  days   \n",
       "0     15003  Bioclimatic indicators  dry-spells_maximum-length  days   \n",
       "0     15004  Bioclimatic indicators  dry-spells_maximum-length  days   \n",
       "0     15005  Bioclimatic indicators  dry-spells_maximum-length  days   \n",
       "\n",
       "                                              values  \\\n",
       "0  {'rcp45': {'1971 - 1990': 29.84776306152344, '...   \n",
       "0  {'rcp45': {'1971 - 1990': 31.08477783203125, '...   \n",
       "0  {'rcp45': {'1971 - 1990': 28.219572067260746, ...   \n",
       "0  {'rcp45': {'1971 - 1990': 28.741310119628903, ...   \n",
       "0  {'rcp45': {'1971 - 1990': 28.92191505432129, '...   \n",
       "\n",
       "                                            geometry  \n",
       "0  POLYGON ((-8.35892 43.14721, -8.35864 43.14764...  \n",
       "0  POLYGON ((-8.72471 42.88868, -8.72403 42.88872...  \n",
       "0  POLYGON ((-8.11605 43.21256, -8.11120 43.21299...  \n",
       "0  MULTIPOLYGON (((-8.26941 43.42891, -8.26951 43...  \n",
       "0  MULTIPOLYGON (((-8.55475 43.31382, -8.55483 43...  "
      ]
     },
     "execution_count": 340,
     "metadata": {},
     "output_type": "execute_result"
    }
   ],
   "source": [
    "gdf = reorganice_data_municipios(gdf)\n",
    "gdf.head()"
   ]
  },
  {
   "cell_type": "markdown",
   "metadata": {},
   "source": [
    "#### **Create `MBTiles` and upload to GCS in {z}/{x}/{y}.pbf format**"
   ]
  },
  {
   "cell_type": "code",
   "execution_count": 346,
   "metadata": {},
   "outputs": [
    {
     "name": "stdout",
     "output_type": "stream",
     "text": [
      "Processing: tippecanoe -o ../../datasets/processed/MBTiles/Duracion_sequias_municipio.mbtiles -l Duracion_sequias_municipio -zg --drop-densest-as-needed --extend-zooms-if-still-dropping --force --read-parallel ../../datasets/processed/MBTiles/Duracion_sequias_municipio.json\n"
     ]
    },
    {
     "name": "stderr",
     "output_type": "stream",
     "text": [
      "Read 0.00 million features\r"
     ]
    }
   ],
   "source": [
    "path = '../../datasets/processed/MBTiles'\n",
    "name = 'Duracion_sequias_municipio'\n",
    "\n",
    "vector_tile_processing(path, name, gdf, pbf_format=True, upload_to_GCS=True)"
   ]
  }
 ],
 "metadata": {
  "kernelspec": {
   "display_name": "Python 3 (ipykernel)",
   "language": "python",
   "name": "python3"
  },
  "language_info": {
   "codemirror_mode": {
    "name": "ipython",
    "version": 3
   },
   "file_extension": ".py",
   "mimetype": "text/x-python",
   "name": "python",
   "nbconvert_exporter": "python",
   "pygments_lexer": "ipython3",
   "version": "3.8.12"
  },
  "orig_nbformat": 4
 },
 "nbformat": 4,
 "nbformat_minor": 2
}
