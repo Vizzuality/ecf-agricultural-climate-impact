{
 "cells": [
  {
   "cell_type": "markdown",
   "id": "37548077",
   "metadata": {},
   "source": [
    "# Población dependiente de la agricultura\n",
    "- **[Data source](https://www.ine.es/jaxiT3/Tabla.htm?t=3994)**\n",
    "\n",
    "# Setup\n",
    "## Library import\n",
    "We import all the required Python libraries"
   ]
  },
  {
   "cell_type": "code",
   "execution_count": 8,
   "id": "a6607581",
   "metadata": {},
   "outputs": [],
   "source": [
    "import numpy as np\n",
    "import pandas as pd\n",
    "import geopandas as gpd\n",
    "import matplotlib.pyplot as plt\n",
    "from mpl_toolkits.axes_grid1 import make_axes_locatable"
   ]
  },
  {
   "cell_type": "markdown",
   "id": "4b6af133",
   "metadata": {},
   "source": [
    "# Data import\n",
    "\n",
    "### Población activa\n",
    "**Read data**"
   ]
  },
  {
   "cell_type": "code",
   "execution_count": 2,
   "id": "86e35cd9",
   "metadata": {},
   "outputs": [
    {
     "data": {
      "text/html": [
       "<div>\n",
       "<style scoped>\n",
       "    .dataframe tbody tr th:only-of-type {\n",
       "        vertical-align: middle;\n",
       "    }\n",
       "\n",
       "    .dataframe tbody tr th {\n",
       "        vertical-align: top;\n",
       "    }\n",
       "\n",
       "    .dataframe thead th {\n",
       "        text-align: right;\n",
       "    }\n",
       "</style>\n",
       "<table border=\"1\" class=\"dataframe\">\n",
       "  <thead>\n",
       "    <tr style=\"text-align: right;\">\n",
       "      <th></th>\n",
       "      <th>value</th>\n",
       "      <th>year</th>\n",
       "      <th>CO_PROVINC</th>\n",
       "    </tr>\n",
       "  </thead>\n",
       "  <tbody>\n",
       "    <tr>\n",
       "      <th>0</th>\n",
       "      <td>1.800</td>\n",
       "      <td>2020</td>\n",
       "      <td>1</td>\n",
       "    </tr>\n",
       "    <tr>\n",
       "      <th>1</th>\n",
       "      <td>8.600</td>\n",
       "      <td>2020</td>\n",
       "      <td>2</td>\n",
       "    </tr>\n",
       "    <tr>\n",
       "      <th>2</th>\n",
       "      <td>2.000</td>\n",
       "      <td>2020</td>\n",
       "      <td>3</td>\n",
       "    </tr>\n",
       "    <tr>\n",
       "      <th>3</th>\n",
       "      <td>21.375</td>\n",
       "      <td>2020</td>\n",
       "      <td>4</td>\n",
       "    </tr>\n",
       "    <tr>\n",
       "      <th>4</th>\n",
       "      <td>9.275</td>\n",
       "      <td>2020</td>\n",
       "      <td>5</td>\n",
       "    </tr>\n",
       "  </tbody>\n",
       "</table>\n",
       "</div>"
      ],
      "text/plain": [
       "    value  year  CO_PROVINC\n",
       "0   1.800  2020           1\n",
       "1   8.600  2020           2\n",
       "2   2.000  2020           3\n",
       "3  21.375  2020           4\n",
       "4   9.275  2020           5"
      ]
     },
     "execution_count": 2,
     "metadata": {},
     "output_type": "execute_result"
    }
   ],
   "source": [
    "df = pd.read_csv(f'../../datasets/raw/other/población_dependiente_de_agricultura.csv',sep=\";\", error_bad_lines=False)\n",
    "# Drop columns\n",
    "df.drop(columns=['Sector econ�mico', 'Periodo'], inplace=True)\n",
    "\n",
    "# Remove Canarias, Ceuta, and Melilla\n",
    "df = df[~df['Provincias'].isin(['35 Palmas, Las', '38 Santa Cruz de Tenerife', '51 Ceuta', '52 Melilla'])]\n",
    "\n",
    "# From str to float\n",
    "df['Total'] = df['Total'].apply(lambda x: x.replace(',', '.'))\n",
    "df = df.astype({'Total': float})\n",
    "\n",
    "# Mean of the year  \n",
    "df = df.groupby(['Provincias']).mean()\n",
    "df = df.reset_index()\n",
    "df['year'] = 2020\n",
    "\n",
    "# Get province id\n",
    "df['CO_PROVINC'] = df['Provincias'].apply(lambda x: x.split(' ')[0])\n",
    "df = df.astype({'CO_PROVINC': int})\n",
    "df.drop(columns='Provincias', inplace=True)\n",
    "df.rename(columns={'Total': 'value'}, inplace=True)\n",
    "\n",
    "df.head()"
   ]
  },
  {
   "cell_type": "markdown",
   "id": "617ac617",
   "metadata": {},
   "source": [
    "### Comarcas Agrarias \n",
    "**Read data** "
   ]
  },
  {
   "cell_type": "code",
   "execution_count": 3,
   "id": "8a9f3cf1",
   "metadata": {},
   "outputs": [
    {
     "data": {
      "text/html": [
       "<div>\n",
       "<style scoped>\n",
       "    .dataframe tbody tr th:only-of-type {\n",
       "        vertical-align: middle;\n",
       "    }\n",
       "\n",
       "    .dataframe tbody tr th {\n",
       "        vertical-align: top;\n",
       "    }\n",
       "\n",
       "    .dataframe thead th {\n",
       "        text-align: right;\n",
       "    }\n",
       "</style>\n",
       "<table border=\"1\" class=\"dataframe\">\n",
       "  <thead>\n",
       "    <tr style=\"text-align: right;\">\n",
       "      <th></th>\n",
       "      <th>CO_CCAA</th>\n",
       "      <th>DS_CCAA</th>\n",
       "      <th>CO_PROVINC</th>\n",
       "      <th>DS_PROVINC</th>\n",
       "      <th>geometry</th>\n",
       "    </tr>\n",
       "  </thead>\n",
       "  <tbody>\n",
       "    <tr>\n",
       "      <th>0</th>\n",
       "      <td>1</td>\n",
       "      <td>Andalucía</td>\n",
       "      <td>4</td>\n",
       "      <td>Almeria</td>\n",
       "      <td>POLYGON ((-2.18190 37.89882, -2.17200 37.88869...</td>\n",
       "    </tr>\n",
       "    <tr>\n",
       "      <th>1</th>\n",
       "      <td>1</td>\n",
       "      <td>Andalucía</td>\n",
       "      <td>4</td>\n",
       "      <td>Almeria</td>\n",
       "      <td>POLYGON ((-2.30698 37.55521, -2.30604 37.55513...</td>\n",
       "    </tr>\n",
       "    <tr>\n",
       "      <th>2</th>\n",
       "      <td>1</td>\n",
       "      <td>Andalucía</td>\n",
       "      <td>4</td>\n",
       "      <td>Almeria</td>\n",
       "      <td>MULTIPOLYGON (((-1.90983 37.53787, -1.87940 37...</td>\n",
       "    </tr>\n",
       "    <tr>\n",
       "      <th>3</th>\n",
       "      <td>1</td>\n",
       "      <td>Andalucía</td>\n",
       "      <td>4</td>\n",
       "      <td>Almeria</td>\n",
       "      <td>POLYGON ((-2.82541 37.27830, -2.82478 37.27825...</td>\n",
       "    </tr>\n",
       "    <tr>\n",
       "      <th>4</th>\n",
       "      <td>1</td>\n",
       "      <td>Andalucía</td>\n",
       "      <td>4</td>\n",
       "      <td>Almeria</td>\n",
       "      <td>POLYGON ((-2.07134 37.29541, -2.07096 37.29533...</td>\n",
       "    </tr>\n",
       "    <tr>\n",
       "      <th>...</th>\n",
       "      <td>...</td>\n",
       "      <td>...</td>\n",
       "      <td>...</td>\n",
       "      <td>...</td>\n",
       "      <td>...</td>\n",
       "    </tr>\n",
       "    <tr>\n",
       "      <th>341</th>\n",
       "      <td>17</td>\n",
       "      <td>Comunidad Valenciana</td>\n",
       "      <td>46</td>\n",
       "      <td>Valencia</td>\n",
       "      <td>POLYGON ((-0.23569 39.10358, -0.23488 39.10342...</td>\n",
       "    </tr>\n",
       "    <tr>\n",
       "      <th>342</th>\n",
       "      <td>17</td>\n",
       "      <td>Comunidad Valenciana</td>\n",
       "      <td>46</td>\n",
       "      <td>Valencia</td>\n",
       "      <td>POLYGON ((-1.05911 39.31525, -1.04755 39.30510...</td>\n",
       "    </tr>\n",
       "    <tr>\n",
       "      <th>343</th>\n",
       "      <td>17</td>\n",
       "      <td>Comunidad Valenciana</td>\n",
       "      <td>46</td>\n",
       "      <td>Valencia</td>\n",
       "      <td>POLYGON ((-0.77926 39.26022, -0.77850 39.25927...</td>\n",
       "    </tr>\n",
       "    <tr>\n",
       "      <th>344</th>\n",
       "      <td>17</td>\n",
       "      <td>Comunidad Valenciana</td>\n",
       "      <td>46</td>\n",
       "      <td>Valencia</td>\n",
       "      <td>MULTIPOLYGON (((-0.55119 39.00634, -0.55038 39...</td>\n",
       "    </tr>\n",
       "    <tr>\n",
       "      <th>345</th>\n",
       "      <td>17</td>\n",
       "      <td>Comunidad Valenciana</td>\n",
       "      <td>46</td>\n",
       "      <td>Valencia</td>\n",
       "      <td>POLYGON ((-0.37993 39.02139, -0.37967 39.02097...</td>\n",
       "    </tr>\n",
       "  </tbody>\n",
       "</table>\n",
       "<p>346 rows × 5 columns</p>\n",
       "</div>"
      ],
      "text/plain": [
       "     CO_CCAA               DS_CCAA  CO_PROVINC DS_PROVINC  \\\n",
       "0          1             Andalucía           4    Almeria   \n",
       "1          1             Andalucía           4    Almeria   \n",
       "2          1             Andalucía           4    Almeria   \n",
       "3          1             Andalucía           4    Almeria   \n",
       "4          1             Andalucía           4    Almeria   \n",
       "..       ...                   ...         ...        ...   \n",
       "341       17  Comunidad Valenciana          46   Valencia   \n",
       "342       17  Comunidad Valenciana          46   Valencia   \n",
       "343       17  Comunidad Valenciana          46   Valencia   \n",
       "344       17  Comunidad Valenciana          46   Valencia   \n",
       "345       17  Comunidad Valenciana          46   Valencia   \n",
       "\n",
       "                                              geometry  \n",
       "0    POLYGON ((-2.18190 37.89882, -2.17200 37.88869...  \n",
       "1    POLYGON ((-2.30698 37.55521, -2.30604 37.55513...  \n",
       "2    MULTIPOLYGON (((-1.90983 37.53787, -1.87940 37...  \n",
       "3    POLYGON ((-2.82541 37.27830, -2.82478 37.27825...  \n",
       "4    POLYGON ((-2.07134 37.29541, -2.07096 37.29533...  \n",
       "..                                                 ...  \n",
       "341  POLYGON ((-0.23569 39.10358, -0.23488 39.10342...  \n",
       "342  POLYGON ((-1.05911 39.31525, -1.04755 39.30510...  \n",
       "343  POLYGON ((-0.77926 39.26022, -0.77850 39.25927...  \n",
       "344  MULTIPOLYGON (((-0.55119 39.00634, -0.55038 39...  \n",
       "345  POLYGON ((-0.37993 39.02139, -0.37967 39.02097...  \n",
       "\n",
       "[346 rows x 5 columns]"
      ]
     },
     "execution_count": 3,
     "metadata": {},
     "output_type": "execute_result"
    }
   ],
   "source": [
    "comarcas_agr = gpd.read_file(f'../../datasets/raw/georegions/ComarcasAgrarias/ComarcasAgrarias.shp')\n",
    "comarcas_agr.sort_values(['CO_CCAA', 'CO_PROVINC', 'CO_COMARCA'], inplace = True)\n",
    "\n",
    "# Remove Canarias, Ceuta, and Melilla\n",
    "comarcas_agr = comarcas_agr[~comarcas_agr['DS_CCAA'].isin(['Canarias', 'Ceuta', 'Melilla'])]\n",
    "comarcas_agr = comarcas_agr.reset_index(drop=True)\n",
    "comarcas_agr.drop(columns=['CO_COMARCA', 'DS_COMARCA'], inplace=True)\n",
    "comarcas_agr"
   ]
  },
  {
   "cell_type": "markdown",
   "id": "3eaae474",
   "metadata": {},
   "source": [
    "**Dissolve geometries into provinces**"
   ]
  },
  {
   "cell_type": "code",
   "execution_count": 5,
   "id": "e43044a2",
   "metadata": {},
   "outputs": [],
   "source": [
    "provincias = gpd.GeoDataFrame(columns=list(comarcas_agr.columns))\n",
    "for provincia in comarcas_agr.DS_PROVINC.unique():\n",
    "    gdf_tmp = comarcas_agr[comarcas_agr['DS_PROVINC'] == provincia]\n",
    "    gdf_tmp = gdf_tmp.dissolve()\n",
    "    \n",
    "    provincias = pd.concat([provincias, gdf_tmp[list(comarcas_agr.columns)]])"
   ]
  },
  {
   "cell_type": "markdown",
   "id": "68366f20",
   "metadata": {},
   "source": [
    "**Save provincias**"
   ]
  },
  {
   "cell_type": "code",
   "execution_count": 20,
   "id": "c31a755a",
   "metadata": {},
   "outputs": [],
   "source": [
    "provincias.to_file(f'../../datasets/raw/georegions/Provincias/Provincias.shp')"
   ]
  },
  {
   "cell_type": "markdown",
   "id": "871be57d",
   "metadata": {},
   "source": [
    "### Merge data with provinces"
   ]
  },
  {
   "cell_type": "code",
   "execution_count": 6,
   "id": "be1a1ea3",
   "metadata": {},
   "outputs": [
    {
     "data": {
      "text/html": [
       "<div>\n",
       "<style scoped>\n",
       "    .dataframe tbody tr th:only-of-type {\n",
       "        vertical-align: middle;\n",
       "    }\n",
       "\n",
       "    .dataframe tbody tr th {\n",
       "        vertical-align: top;\n",
       "    }\n",
       "\n",
       "    .dataframe thead th {\n",
       "        text-align: right;\n",
       "    }\n",
       "</style>\n",
       "<table border=\"1\" class=\"dataframe\">\n",
       "  <thead>\n",
       "    <tr style=\"text-align: right;\">\n",
       "      <th></th>\n",
       "      <th>CO_CCAA</th>\n",
       "      <th>DS_CCAA</th>\n",
       "      <th>CO_PROVINC</th>\n",
       "      <th>DS_PROVINC</th>\n",
       "      <th>geometry</th>\n",
       "      <th>value</th>\n",
       "      <th>year</th>\n",
       "    </tr>\n",
       "  </thead>\n",
       "  <tbody>\n",
       "    <tr>\n",
       "      <th>0</th>\n",
       "      <td>1</td>\n",
       "      <td>Andalucía</td>\n",
       "      <td>4</td>\n",
       "      <td>Almeria</td>\n",
       "      <td>MULTIPOLYGON (((-3.03139 35.94165, -3.03124 35...</td>\n",
       "      <td>21.375</td>\n",
       "      <td>2020</td>\n",
       "    </tr>\n",
       "    <tr>\n",
       "      <th>1</th>\n",
       "      <td>1</td>\n",
       "      <td>Andalucía</td>\n",
       "      <td>11</td>\n",
       "      <td>Cádiz</td>\n",
       "      <td>MULTIPOLYGON (((-5.29471 36.24562, -5.29486 36...</td>\n",
       "      <td>3.675</td>\n",
       "      <td>2020</td>\n",
       "    </tr>\n",
       "    <tr>\n",
       "      <th>2</th>\n",
       "      <td>1</td>\n",
       "      <td>Andalucía</td>\n",
       "      <td>14</td>\n",
       "      <td>Córdoba</td>\n",
       "      <td>MULTIPOLYGON (((-5.12971 37.69875, -5.12903 37...</td>\n",
       "      <td>13.775</td>\n",
       "      <td>2020</td>\n",
       "    </tr>\n",
       "    <tr>\n",
       "      <th>3</th>\n",
       "      <td>1</td>\n",
       "      <td>Andalucía</td>\n",
       "      <td>18</td>\n",
       "      <td>Granada</td>\n",
       "      <td>MULTIPOLYGON (((-3.38971 36.70813, -3.38988 36...</td>\n",
       "      <td>11.700</td>\n",
       "      <td>2020</td>\n",
       "    </tr>\n",
       "    <tr>\n",
       "      <th>4</th>\n",
       "      <td>1</td>\n",
       "      <td>Andalucía</td>\n",
       "      <td>21</td>\n",
       "      <td>Huelva</td>\n",
       "      <td>MULTIPOLYGON (((-6.38457 37.33749, -6.38402 37...</td>\n",
       "      <td>18.950</td>\n",
       "      <td>2020</td>\n",
       "    </tr>\n",
       "  </tbody>\n",
       "</table>\n",
       "</div>"
      ],
      "text/plain": [
       "  CO_CCAA    DS_CCAA CO_PROVINC DS_PROVINC  \\\n",
       "0       1  Andalucía          4    Almeria   \n",
       "1       1  Andalucía         11      Cádiz   \n",
       "2       1  Andalucía         14    Córdoba   \n",
       "3       1  Andalucía         18    Granada   \n",
       "4       1  Andalucía         21     Huelva   \n",
       "\n",
       "                                            geometry   value  year  \n",
       "0  MULTIPOLYGON (((-3.03139 35.94165, -3.03124 35...  21.375  2020  \n",
       "1  MULTIPOLYGON (((-5.29471 36.24562, -5.29486 36...   3.675  2020  \n",
       "2  MULTIPOLYGON (((-5.12971 37.69875, -5.12903 37...  13.775  2020  \n",
       "3  MULTIPOLYGON (((-3.38971 36.70813, -3.38988 36...  11.700  2020  \n",
       "4  MULTIPOLYGON (((-6.38457 37.33749, -6.38402 37...  18.950  2020  "
      ]
     },
     "execution_count": 6,
     "metadata": {},
     "output_type": "execute_result"
    }
   ],
   "source": [
    "gdf = pd.merge(provincias, df, how='left', on='CO_PROVINC' )\n",
    "gdf.head()"
   ]
  },
  {
   "cell_type": "markdown",
   "id": "468dbf98",
   "metadata": {},
   "source": [
    "**Display data**"
   ]
  },
  {
   "cell_type": "code",
   "execution_count": 9,
   "id": "5be8bfe5",
   "metadata": {},
   "outputs": [
    {
     "data": {
      "text/plain": [
       "Text(0.5, 1.0, 'Población dependiente de agricultura')"
      ]
     },
     "execution_count": 9,
     "metadata": {},
     "output_type": "execute_result"
    },
    {
     "data": {
      "image/png": "[encoded data removed]",
      "text/plain": [
       "<Figure size 864x864 with 2 Axes>"
      ]
     },
     "metadata": {
      "needs_background": "light"
     },
     "output_type": "display_data"
    }
   ],
   "source": [
    "fig, ax = plt.subplots(1,1,figsize=(12, 12))\n",
    "\n",
    "\n",
    "divider = make_axes_locatable(ax)\n",
    "cax = divider.append_axes(\"right\", size=\"3%\", pad=0.1) \n",
    "\n",
    "gdf.plot(ax=ax, column='value', cmap='gist_earth', legend=True, cax=cax, legend_kwds={'label': 'Porcentage de población activa [%]'})\n",
    "ax.set_title('Población dependiente de agricultura')"
   ]
  },
  {
   "cell_type": "markdown",
   "id": "14a2367a",
   "metadata": {},
   "source": [
    "**Reorganice data**"
   ]
  },
  {
   "cell_type": "code",
   "execution_count": 10,
   "id": "7a0d4834",
   "metadata": {},
   "outputs": [
    {
     "data": {
      "text/plain": [
       "Index(['CO_CCAA', 'DS_CCAA', 'CO_PROVINC', 'DS_PROVINC', 'geometry', 'value',\n",
       "       'year'],\n",
       "      dtype='object')"
      ]
     },
     "execution_count": 10,
     "metadata": {},
     "output_type": "execute_result"
    }
   ],
   "source": [
    "gdf.columns"
   ]
  },
  {
   "cell_type": "code",
   "execution_count": 16,
   "id": "5f1fc29b",
   "metadata": {},
   "outputs": [
    {
     "data": {
      "text/html": [
       "<div>\n",
       "<style scoped>\n",
       "    .dataframe tbody tr th:only-of-type {\n",
       "        vertical-align: middle;\n",
       "    }\n",
       "\n",
       "    .dataframe tbody tr th {\n",
       "        vertical-align: top;\n",
       "    }\n",
       "\n",
       "    .dataframe thead th {\n",
       "        text-align: right;\n",
       "    }\n",
       "</style>\n",
       "<table border=\"1\" class=\"dataframe\">\n",
       "  <thead>\n",
       "    <tr style=\"text-align: right;\">\n",
       "      <th></th>\n",
       "      <th>CO_CCAA</th>\n",
       "      <th>CO_PROVINC</th>\n",
       "      <th>dataset</th>\n",
       "      <th>indicator</th>\n",
       "      <th>value</th>\n",
       "      <th>year</th>\n",
       "      <th>unit</th>\n",
       "    </tr>\n",
       "  </thead>\n",
       "  <tbody>\n",
       "    <tr>\n",
       "      <th>0</th>\n",
       "      <td>1</td>\n",
       "      <td>4</td>\n",
       "      <td>Población activa</td>\n",
       "      <td>Porcentage población activa en la agricultura</td>\n",
       "      <td>21.375</td>\n",
       "      <td>2020</td>\n",
       "      <td>%</td>\n",
       "    </tr>\n",
       "    <tr>\n",
       "      <th>1</th>\n",
       "      <td>1</td>\n",
       "      <td>11</td>\n",
       "      <td>Población activa</td>\n",
       "      <td>Porcentage población activa en la agricultura</td>\n",
       "      <td>3.675</td>\n",
       "      <td>2020</td>\n",
       "      <td>%</td>\n",
       "    </tr>\n",
       "    <tr>\n",
       "      <th>2</th>\n",
       "      <td>1</td>\n",
       "      <td>14</td>\n",
       "      <td>Población activa</td>\n",
       "      <td>Porcentage población activa en la agricultura</td>\n",
       "      <td>13.775</td>\n",
       "      <td>2020</td>\n",
       "      <td>%</td>\n",
       "    </tr>\n",
       "    <tr>\n",
       "      <th>3</th>\n",
       "      <td>1</td>\n",
       "      <td>18</td>\n",
       "      <td>Población activa</td>\n",
       "      <td>Porcentage población activa en la agricultura</td>\n",
       "      <td>11.700</td>\n",
       "      <td>2020</td>\n",
       "      <td>%</td>\n",
       "    </tr>\n",
       "    <tr>\n",
       "      <th>4</th>\n",
       "      <td>1</td>\n",
       "      <td>21</td>\n",
       "      <td>Población activa</td>\n",
       "      <td>Porcentage población activa en la agricultura</td>\n",
       "      <td>18.950</td>\n",
       "      <td>2020</td>\n",
       "      <td>%</td>\n",
       "    </tr>\n",
       "  </tbody>\n",
       "</table>\n",
       "</div>"
      ],
      "text/plain": [
       "  CO_CCAA CO_PROVINC           dataset  \\\n",
       "0       1          4  Población activa   \n",
       "1       1         11  Población activa   \n",
       "2       1         14  Población activa   \n",
       "3       1         18  Población activa   \n",
       "4       1         21  Población activa   \n",
       "\n",
       "                                       indicator   value  year unit  \n",
       "0  Porcentage población activa en la agricultura  21.375  2020    %  \n",
       "1  Porcentage población activa en la agricultura   3.675  2020    %  \n",
       "2  Porcentage población activa en la agricultura  13.775  2020    %  \n",
       "3  Porcentage población activa en la agricultura  11.700  2020    %  \n",
       "4  Porcentage población activa en la agricultura  18.950  2020    %  "
      ]
     },
     "execution_count": 16,
     "metadata": {},
     "output_type": "execute_result"
    }
   ],
   "source": [
    "df = gdf.drop(columns='geometry')\n",
    "df['dataset'] = 'Población activa'\n",
    "df['indicator'] = 'Porcentage población activa en la agricultura'\n",
    "df['unit'] = '%' \n",
    "df = df [['CO_CCAA', 'CO_PROVINC', 'dataset', 'indicator', 'value', 'year', 'unit']]\n",
    "df.head()"
   ]
  },
  {
   "cell_type": "markdown",
   "id": "05287ad3",
   "metadata": {},
   "source": [
    "**Save tables**"
   ]
  },
  {
   "cell_type": "code",
   "execution_count": 17,
   "id": "ebcfe6b1",
   "metadata": {},
   "outputs": [],
   "source": [
    "df.to_csv(f'../../datasets/processed/población_activa.csv', index = False)"
   ]
  },
  {
   "cell_type": "code",
   "execution_count": null,
   "id": "a12c12a6",
   "metadata": {},
   "outputs": [],
   "source": []
  }
 ],
 "metadata": {
  "kernelspec": {
   "display_name": "Python 3 (ipykernel)",
   "language": "python",
   "name": "python3"
  },
  "language_info": {
   "codemirror_mode": {
    "name": "ipython",
    "version": 3
   },
   "file_extension": ".py",
   "mimetype": "text/x-python",
   "name": "python",
   "nbconvert_exporter": "python",
   "pygments_lexer": "ipython3",
   "version": "3.8.12"
  }
 },
 "nbformat": 4,
 "nbformat_minor": 5
}
